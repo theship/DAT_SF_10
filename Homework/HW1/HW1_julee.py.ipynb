{
 "metadata": {},
 "nbformat": 3,
 "nbformat_minor": 0,
 "worksheets": [
  {
   "cells": [
    {
     "cell_type": "code",
     "collapsed": false,
     "input": [
      "## General Assembly Data Science, San Francisco\n",
      "## github.com/ga-students/DAT_SF_10\n",
      "##\n",
      "## Julee Burdekin\n",
      "## juburdekin@gmail.com\n",
      "##\n",
      "## 20141013\n",
      "## HW1\n",
      "## Analyze a new app with provided json file, in the same dir,\n",
      "## containing date and time stamps for logins (ga_hw_logins.json)\n",
      "\n",
      "## Step 1: Load the data from ga_hw_logins.json into your python environment\n",
      "## http://stackoverflow.com/questions/12451431/loading-parsing-json-file-in-python\n",
      "\n",
      "import json\n",
      "from datetime import datetime\n",
      "import sqlite3\n",
      "import numpy as np\n",
      "import pandas.io.sql as psql\n",
      "\n",
      "\n",
      "## create a data list\n",
      "data = []\n",
      "dateList = []\n",
      "\n",
      "## open the json file as variable f\n",
      "with open('ga_hw_logins.json') as f:\n",
      "    ## load each line in the file\n",
      "    data  = json.load(f)\n",
      "\n",
      "## Step 2: Convert the strings into datetime objects and append them to a list\n",
      "## http://stackoverflow.com/questions/466345/converting-string-into-datetime/466376#466376\n",
      "## https://docs.python.org/2/library/datetime.html?highlight=datetime.strptime#strftime-and-strptime-behavior\n",
      "\n",
      "for it in data:\n",
      "    todt = datetime.strptime(it, \"%Y-%m-%d %H:%M:%S\")\n",
      "    dateList.append(todt)\n",
      "\n",
      "## for item in dateList:\n",
      "##     print item"
     ],
     "language": "python",
     "metadata": {},
     "outputs": []
    }
   ],
   "metadata": {}
  }
 ]
}