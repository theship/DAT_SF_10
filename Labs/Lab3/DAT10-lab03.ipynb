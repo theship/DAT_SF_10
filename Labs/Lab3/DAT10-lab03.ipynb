{
 "metadata": {
  "name": "",
  "signature": "sha256:d8d5525e8b702ea87ebf817caa9c43af0e2aa214a8967705b5590c2be76ca2f9"
 },
 "nbformat": 3,
 "nbformat_minor": 0,
 "worksheets": [
  {
   "cells": [
    {
     "cell_type": "markdown",
     "metadata": {},
     "source": [
      "# GA Data Science 10 (DAT10) - Lab3"
     ]
    },
    {
     "cell_type": "markdown",
     "metadata": {},
     "source": [
      "Craig Sakuma"
     ]
    },
    {
     "cell_type": "markdown",
     "metadata": {},
     "source": [
      "## Lab goals\n",
      "\n",
      "- numpy wizardry\n",
      "- intro to pandas\n",
      "- kimono labs api"
     ]
    },
    {
     "cell_type": "markdown",
     "metadata": {},
     "source": [
      "From [Crosscompute-Tutorials](http://nbviewer.ipython.org/github/invisibleroads/crosscompute-tutorials/blob/master/111%20Work%20with%20matrices%20in%20NumPy.ipynb)\n",
      "\n",
      "NumPy Wizardry\n",
      "==============================================\n",
      "NumPy specializes in fast operations on arrays and parts of arrays."
     ]
    },
    {
     "cell_type": "code",
     "collapsed": false,
     "input": [
      "import numpy as np"
     ],
     "language": "python",
     "metadata": {},
     "outputs": [],
     "prompt_number": 1
    },
    {
     "cell_type": "markdown",
     "metadata": {},
     "source": [
      "Make an array\n",
      "-------------\n",
      "Make an array from a list."
     ]
    },
    {
     "cell_type": "code",
     "collapsed": false,
     "input": [
      "np.array([1, 2, 3])"
     ],
     "language": "python",
     "metadata": {},
     "outputs": [
      {
       "metadata": {},
       "output_type": "pyout",
       "prompt_number": 2,
       "text": [
        "array([1, 2, 3])"
       ]
      }
     ],
     "prompt_number": 2
    },
    {
     "cell_type": "code",
     "collapsed": false,
     "input": [
      "np.array([[1, 2], [3, 4]])"
     ],
     "language": "python",
     "metadata": {},
     "outputs": [
      {
       "metadata": {},
       "output_type": "pyout",
       "prompt_number": 3,
       "text": [
        "array([[1, 2],\n",
        "       [3, 4]])"
       ]
      }
     ],
     "prompt_number": 3
    },
    {
     "cell_type": "markdown",
     "metadata": {},
     "source": [
      "Make an array using a function."
     ]
    },
    {
     "cell_type": "code",
     "collapsed": false,
     "input": [
      "np.zeros((2, 3))"
     ],
     "language": "python",
     "metadata": {},
     "outputs": [
      {
       "metadata": {},
       "output_type": "pyout",
       "prompt_number": 4,
       "text": [
        "array([[ 0.,  0.,  0.],\n",
        "       [ 0.,  0.,  0.]])"
       ]
      }
     ],
     "prompt_number": 4
    },
    {
     "cell_type": "code",
     "collapsed": false,
     "input": [
      "np.ones((3, 2))"
     ],
     "language": "python",
     "metadata": {},
     "outputs": [
      {
       "metadata": {},
       "output_type": "pyout",
       "prompt_number": 5,
       "text": [
        "array([[ 1.,  1.],\n",
        "       [ 1.,  1.],\n",
        "       [ 1.,  1.]])"
       ]
      }
     ],
     "prompt_number": 5
    },
    {
     "cell_type": "code",
     "collapsed": false,
     "input": [
      "# Make an array by starting at 0, incrementing by 2 and ending before 10\n",
      "# np.arange(0, 10, 2)"
     ],
     "language": "python",
     "metadata": {},
     "outputs": [],
     "prompt_number": 94
    },
    {
     "cell_type": "code",
     "collapsed": false,
     "input": [
      "# Make an array of four evenly spaced numbers including both endpoints\n",
      "# np.linspace(0, 1, 4)"
     ],
     "language": "python",
     "metadata": {},
     "outputs": [],
     "prompt_number": 93
    },
    {
     "cell_type": "code",
     "collapsed": false,
     "input": [
      "# mean = 10\n",
      "# stdev = 3\n",
      "# number_values = 20\n",
      "# np.random.normal(mean, stdev, number_values)"
     ],
     "language": "python",
     "metadata": {},
     "outputs": [],
     "prompt_number": 92
    },
    {
     "cell_type": "markdown",
     "metadata": {},
     "source": [
      "Access parts of an array by indexing\n",
      "------------------------------------\n",
      "Access elements of a 1-dimensional array."
     ]
    },
    {
     "cell_type": "code",
     "collapsed": false,
     "input": [
      "x = np.arange(4)\n",
      "print x\n",
      "print x[0]  # Get the first element\n",
      "print x[-1] # Get the last element"
     ],
     "language": "python",
     "metadata": {},
     "outputs": [
      {
       "output_type": "stream",
       "stream": "stdout",
       "text": [
        "[0 1 2 3]\n",
        "0\n",
        "3\n"
       ]
      }
     ],
     "prompt_number": 25
    },
    {
     "cell_type": "markdown",
     "metadata": {},
     "source": [
      "Access elements of a multidimensional array."
     ]
    },
    {
     "cell_type": "code",
     "collapsed": false,
     "input": [
      "x = np.arange(6).reshape(2, 3)\n",
      "print x"
     ],
     "language": "python",
     "metadata": {},
     "outputs": [
      {
       "output_type": "stream",
       "stream": "stdout",
       "text": [
        "[[0 1 2]\n",
        " [3 4 5]]\n"
       ]
      }
     ],
     "prompt_number": 26
    },
    {
     "cell_type": "code",
     "collapsed": false,
     "input": [
      "print x[-1]     # Get the last row\n",
      "print x[-1, -1] # Get the last element of the last row"
     ],
     "language": "python",
     "metadata": {},
     "outputs": [
      {
       "output_type": "stream",
       "stream": "stdout",
       "text": [
        "[3 4 5]\n",
        "5\n"
       ]
      }
     ],
     "prompt_number": 27
    },
    {
     "cell_type": "markdown",
     "metadata": {},
     "source": [
      "Access slices of an array using colons."
     ]
    },
    {
     "cell_type": "code",
     "collapsed": false,
     "input": [
      "x = np.arange(10)\n",
      "print x\n",
      "print x[:3]  # Get the first three elements\n",
      "print x[-3:] # Get the last three elements\n",
      "print x[1:4] # Get some elements in the middle"
     ],
     "language": "python",
     "metadata": {},
     "outputs": [
      {
       "output_type": "stream",
       "stream": "stdout",
       "text": [
        "[0 1 2 3 4 5 6 7 8 9]\n",
        "[0 1 2]\n",
        "[7 8 9]\n",
        "[1 2 3]\n"
       ]
      }
     ],
     "prompt_number": 29
    },
    {
     "cell_type": "code",
     "collapsed": false,
     "input": [
      "print x[::2] # Get every second element\n",
      "print x[::3] # Get every third element"
     ],
     "language": "python",
     "metadata": {},
     "outputs": [
      {
       "output_type": "stream",
       "stream": "stdout",
       "text": [
        "[0 2 4 6 8]\n",
        "[0 3 6 9]\n"
       ]
      }
     ],
     "prompt_number": 30
    },
    {
     "cell_type": "code",
     "collapsed": false,
     "input": [
      "x = np.arange(25).reshape(5, 5)\n",
      "print x"
     ],
     "language": "python",
     "metadata": {},
     "outputs": [
      {
       "output_type": "stream",
       "stream": "stdout",
       "text": [
        "[[ 0  1  2  3  4]\n",
        " [ 5  6  7  8  9]\n",
        " [10 11 12 13 14]\n",
        " [15 16 17 18 19]\n",
        " [20 21 22 23 24]]\n"
       ]
      }
     ],
     "prompt_number": 31
    },
    {
     "cell_type": "code",
     "collapsed": false,
     "input": [
      "print x[:2, :2]   # Get the first two columns and the first two rows"
     ],
     "language": "python",
     "metadata": {},
     "outputs": [
      {
       "output_type": "stream",
       "stream": "stdout",
       "text": [
        "[[0 1]\n",
        " [5 6]]\n"
       ]
      }
     ],
     "prompt_number": 32
    },
    {
     "cell_type": "code",
     "collapsed": false,
     "input": [
      "print x[::2, ::2] # Get every second column of every second row"
     ],
     "language": "python",
     "metadata": {},
     "outputs": [
      {
       "output_type": "stream",
       "stream": "stdout",
       "text": [
        "[[ 0  2  4]\n",
        " [10 12 14]\n",
        " [20 22 24]]\n"
       ]
      }
     ],
     "prompt_number": 33
    },
    {
     "cell_type": "markdown",
     "metadata": {},
     "source": [
      "Access parts of an array with index arrays."
     ]
    },
    {
     "cell_type": "code",
     "collapsed": false,
     "input": [
      "# Generate six random integers between 0 and 9 inclusive\n",
      "x = np.random.random_integers(0, 9, 6) \n",
      "print x"
     ],
     "language": "python",
     "metadata": {},
     "outputs": [
      {
       "output_type": "stream",
       "stream": "stdout",
       "text": [
        "[3 8 3 2 4 5]\n"
       ]
      }
     ],
     "prompt_number": 34
    },
    {
     "cell_type": "code",
     "collapsed": false,
     "input": [
      "# Get the first number and the last two numbers\n",
      "indices = [0, -2, -1]\n",
      "print x[indices]"
     ],
     "language": "python",
     "metadata": {},
     "outputs": [
      {
       "output_type": "stream",
       "stream": "stdout",
       "text": [
        "[3 4 5]\n"
       ]
      }
     ],
     "prompt_number": 35
    },
    {
     "cell_type": "code",
     "collapsed": false,
     "input": [
      "# Make a random set of indices and use it for two arrays\n",
      "arrayLength = 5\n",
      "x1 = np.arange(arrayLength)\n",
      "x2 = np.arange(arrayLength) * -1\n",
      "indices = np.random.permutation(arrayLength)\n",
      "print x1[indices]\n",
      "print x2[indices]"
     ],
     "language": "python",
     "metadata": {},
     "outputs": [
      {
       "output_type": "stream",
       "stream": "stdout",
       "text": [
        "[1 3 4 2 0]\n",
        "[-1 -3 -4 -2  0]\n"
       ]
      }
     ],
     "prompt_number": 36
    },
    {
     "cell_type": "code",
     "collapsed": false,
     "input": [
      "# Use a multidimensional index array\n",
      "x = np.random.random_integers(0, 9, 3)\n",
      "indices = np.array([[0, 1], [1, 2]])\n",
      "print 'Candidates = %s' % x\n",
      "print x[indices]"
     ],
     "language": "python",
     "metadata": {},
     "outputs": [
      {
       "output_type": "stream",
       "stream": "stdout",
       "text": [
        "Candidates = [5 1 0]\n",
        "[[5 1]\n",
        " [1 0]]\n"
       ]
      }
     ],
     "prompt_number": 11
    },
    {
     "cell_type": "markdown",
     "metadata": {},
     "source": [
      "Filter arrays by element value with boolean index arrays."
     ]
    },
    {
     "cell_type": "code",
     "collapsed": false,
     "input": [
      "x = np.arange(5)\n",
      "print x"
     ],
     "language": "python",
     "metadata": {},
     "outputs": [
      {
       "output_type": "stream",
       "stream": "stdout",
       "text": [
        "[0 1 2 3 4]\n"
       ]
      }
     ],
     "prompt_number": 37
    },
    {
     "cell_type": "code",
     "collapsed": false,
     "input": [
      "print x > 2"
     ],
     "language": "python",
     "metadata": {},
     "outputs": [
      {
       "output_type": "stream",
       "stream": "stdout",
       "text": [
        "[False False False  True  True]\n"
       ]
      }
     ],
     "prompt_number": 38
    },
    {
     "cell_type": "code",
     "collapsed": false,
     "input": [
      "print x[x > 2]"
     ],
     "language": "python",
     "metadata": {},
     "outputs": [
      {
       "output_type": "stream",
       "stream": "stdout",
       "text": [
        "[3 4]\n"
       ]
      }
     ],
     "prompt_number": 39
    },
    {
     "cell_type": "markdown",
     "metadata": {},
     "source": [
      "Include whole dimensions with a colon or ellipsis."
     ]
    },
    {
     "cell_type": "code",
     "collapsed": false,
     "input": [
      "x = np.arange(16).reshape(2, 2, 2, 2)\n",
      "print x"
     ],
     "language": "python",
     "metadata": {},
     "outputs": [
      {
       "output_type": "stream",
       "stream": "stdout",
       "text": [
        "[[[[ 0  1]\n",
        "   [ 2  3]]\n",
        "\n",
        "  [[ 4  5]\n",
        "   [ 6  7]]]\n",
        "\n",
        "\n",
        " [[[ 8  9]\n",
        "   [10 11]]\n",
        "\n",
        "  [[12 13]\n",
        "   [14 15]]]]\n"
       ]
      }
     ],
     "prompt_number": 40
    },
    {
     "cell_type": "code",
     "collapsed": false,
     "input": [
      "print x[0]"
     ],
     "language": "python",
     "metadata": {},
     "outputs": [
      {
       "output_type": "stream",
       "stream": "stdout",
       "text": [
        "[[[0 1]\n",
        "  [2 3]]\n",
        "\n",
        " [[4 5]\n",
        "  [6 7]]]\n"
       ]
      }
     ],
     "prompt_number": 41
    },
    {
     "cell_type": "code",
     "collapsed": false,
     "input": [
      "print x[0, 0]"
     ],
     "language": "python",
     "metadata": {},
     "outputs": [],
     "prompt_number": 28
    },
    {
     "cell_type": "code",
     "collapsed": false,
     "input": [
      "print x[0, 0, 0]"
     ],
     "language": "python",
     "metadata": {},
     "outputs": [],
     "prompt_number": 29
    },
    {
     "cell_type": "code",
     "collapsed": false,
     "input": [
      "print x[0, 0, 0, 0]\n",
      "print x[0, 0, 1, 0]\n",
      "print x[0, 0, :, 0]"
     ],
     "language": "python",
     "metadata": {},
     "outputs": [],
     "prompt_number": 30
    },
    {
     "cell_type": "code",
     "collapsed": false,
     "input": [
      "print x[0, 1, 0, 0]\n",
      "print x[0, 1, 1, 0]\n",
      "print x[0, 1, :, 0]"
     ],
     "language": "python",
     "metadata": {},
     "outputs": [],
     "prompt_number": 31
    },
    {
     "cell_type": "code",
     "collapsed": false,
     "input": [
      "print x[0, :, :, 0]"
     ],
     "language": "python",
     "metadata": {},
     "outputs": [
      {
       "output_type": "stream",
       "stream": "stdout",
       "text": [
        "[[0 2]\n",
        " [4 6]]\n"
       ]
      }
     ],
     "prompt_number": 42
    },
    {
     "cell_type": "code",
     "collapsed": false,
     "input": [
      "print x[0, ..., 0]"
     ],
     "language": "python",
     "metadata": {},
     "outputs": [
      {
       "output_type": "stream",
       "stream": "stdout",
       "text": [
        "[[0 2]\n",
        " [4 6]]\n"
       ]
      }
     ],
     "prompt_number": 43
    },
    {
     "cell_type": "markdown",
     "metadata": {},
     "source": [
      "Build indices programmatically."
     ]
    },
    {
     "cell_type": "code",
     "collapsed": false,
     "input": [
      "x = np.arange(16).reshape(2, 2, 2, 2)\n",
      "indices = [0, slice(x.shape[1]), slice(x.shape[2]), 0]\n",
      "print x[indices] # x[0, :, :, 0]\n",
      "indices = [0, Ellipsis, 0]\n",
      "print x[indices] # x[0, ..., 0]"
     ],
     "language": "python",
     "metadata": {},
     "outputs": [],
     "prompt_number": 34
    },
    {
     "cell_type": "markdown",
     "metadata": {},
     "source": [
      "Combine arrays of different dimensions by broadcasting\n",
      "------------------------------------------------------\n",
      "Broadcast a scalar over a matrix."
     ]
    },
    {
     "cell_type": "code",
     "collapsed": false,
     "input": [
      "x = [1, 2, 3, 4]"
     ],
     "language": "python",
     "metadata": {},
     "outputs": [],
     "prompt_number": 14
    },
    {
     "cell_type": "code",
     "collapsed": false,
     "input": [
      "x"
     ],
     "language": "python",
     "metadata": {},
     "outputs": [
      {
       "metadata": {},
       "output_type": "pyout",
       "prompt_number": 15,
       "text": [
        "[1, 2, 3, 4]"
       ]
      }
     ],
     "prompt_number": 15
    },
    {
     "cell_type": "code",
     "collapsed": false,
     "input": [
      "print x + 10"
     ],
     "language": "python",
     "metadata": {},
     "outputs": [
      {
       "ename": "TypeError",
       "evalue": "can only concatenate list (not \"int\") to list",
       "output_type": "pyerr",
       "traceback": [
        "\u001b[0;31m---------------------------------------------------------------------------\u001b[0m\n\u001b[0;31mTypeError\u001b[0m                                 Traceback (most recent call last)",
        "\u001b[0;32m<ipython-input-16-75dd880ee5f9>\u001b[0m in \u001b[0;36m<module>\u001b[0;34m()\u001b[0m\n\u001b[0;32m----> 1\u001b[0;31m \u001b[0;32mprint\u001b[0m \u001b[0mx\u001b[0m \u001b[0;34m+\u001b[0m \u001b[0;36m10\u001b[0m\u001b[0;34m\u001b[0m\u001b[0m\n\u001b[0m",
        "\u001b[0;31mTypeError\u001b[0m: can only concatenate list (not \"int\") to list"
       ]
      }
     ],
     "prompt_number": 16
    },
    {
     "cell_type": "code",
     "collapsed": false,
     "input": [
      "y = np.arange(9)\n",
      "print y"
     ],
     "language": "python",
     "metadata": {},
     "outputs": [
      {
       "output_type": "stream",
       "stream": "stdout",
       "text": [
        "[0 1 2 3 4 5 6 7 8]\n"
       ]
      }
     ],
     "prompt_number": 55
    },
    {
     "cell_type": "code",
     "collapsed": false,
     "input": [
      "y + 10"
     ],
     "language": "python",
     "metadata": {},
     "outputs": [
      {
       "metadata": {},
       "output_type": "pyout",
       "prompt_number": 56,
       "text": [
        "array([10, 11, 12, 13, 14, 15, 16, 17, 18])"
       ]
      }
     ],
     "prompt_number": 56
    },
    {
     "cell_type": "code",
     "collapsed": false,
     "input": [
      "print y + 10"
     ],
     "language": "python",
     "metadata": {},
     "outputs": [
      {
       "output_type": "stream",
       "stream": "stdout",
       "text": [
        "[10 11 12 13 14 15 16 17 18]\n"
       ]
      }
     ],
     "prompt_number": 57
    },
    {
     "cell_type": "code",
     "collapsed": false,
     "input": [
      "x"
     ],
     "language": "python",
     "metadata": {},
     "outputs": [
      {
       "metadata": {},
       "output_type": "pyout",
       "prompt_number": 59,
       "text": [
        "[1, 2, 3, 4]"
       ]
      }
     ],
     "prompt_number": 59
    },
    {
     "cell_type": "markdown",
     "metadata": {},
     "source": [
      "Broadcast 10 to the list"
     ]
    },
    {
     "cell_type": "markdown",
     "metadata": {},
     "source": [
      "Method 1: for loop"
     ]
    },
    {
     "cell_type": "code",
     "collapsed": false,
     "input": [
      "x_new = []\n",
      "for i in x:\n",
      "    x_new.append(i+10)\n",
      "\n",
      "print x_new"
     ],
     "language": "python",
     "metadata": {},
     "outputs": [
      {
       "output_type": "stream",
       "stream": "stdout",
       "text": [
        "[11, 12, 13, 14]\n"
       ]
      }
     ],
     "prompt_number": 64
    },
    {
     "cell_type": "markdown",
     "metadata": {},
     "source": [
      "Method 2: list comprehension"
     ]
    },
    {
     "cell_type": "code",
     "collapsed": false,
     "input": [
      "[i+10 for i in x]"
     ],
     "language": "python",
     "metadata": {},
     "outputs": [
      {
       "metadata": {},
       "output_type": "pyout",
       "prompt_number": 61,
       "text": [
        "[11, 12, 13, 14]"
       ]
      }
     ],
     "prompt_number": 61
    },
    {
     "cell_type": "markdown",
     "metadata": {},
     "source": [
      "Method 3: convert to numpy array"
     ]
    },
    {
     "cell_type": "code",
     "collapsed": false,
     "input": [
      "list(np.array(x)+10)"
     ],
     "language": "python",
     "metadata": {},
     "outputs": [
      {
       "metadata": {},
       "output_type": "pyout",
       "prompt_number": 65,
       "text": [
        "[11, 12, 13, 14]"
       ]
      }
     ],
     "prompt_number": 65
    },
    {
     "cell_type": "code",
     "collapsed": false,
     "input": [
      "x = np.arange(8)\n",
      "print x"
     ],
     "language": "python",
     "metadata": {},
     "outputs": [
      {
       "output_type": "stream",
       "stream": "stdout",
       "text": [
        "[0 1 2 3 4 5 6 7]\n"
       ]
      }
     ],
     "prompt_number": 77
    },
    {
     "cell_type": "code",
     "collapsed": false,
     "input": [
      "y = x.reshape(2, 2, 2)\n",
      "print y"
     ],
     "language": "python",
     "metadata": {},
     "outputs": [
      {
       "output_type": "stream",
       "stream": "stdout",
       "text": [
        "[[[0 1]\n",
        "  [2 3]]\n",
        "\n",
        " [[4 5]\n",
        "  [6 7]]]\n"
       ]
      }
     ],
     "prompt_number": 78
    },
    {
     "cell_type": "code",
     "collapsed": false,
     "input": [
      "print y.ravel()"
     ],
     "language": "python",
     "metadata": {},
     "outputs": [
      {
       "output_type": "stream",
       "stream": "stdout",
       "text": [
        "[0 1 2 3 4 5 6 7]\n"
       ]
      }
     ],
     "prompt_number": 79
    },
    {
     "cell_type": "markdown",
     "metadata": {},
     "source": [
      "### EXERCISE 1\n",
      "\n",
      "#### Create a one dimensional numpy array with odd numbers between 0 and 100\n",
      "\n",
      "#### Transform the array into a 5 x 10 array"
     ]
    },
    {
     "cell_type": "code",
     "collapsed": false,
     "input": [],
     "language": "python",
     "metadata": {},
     "outputs": [],
     "prompt_number": 39
    },
    {
     "cell_type": "markdown",
     "metadata": {},
     "source": [
      "### BONUS\n",
      "\n",
      "#### Create an array of 100 numbers using a random normal distribution with a mean of 10 and standard deviation of 3\n",
      "\n",
      "#### In one line of python, transform the array to make the mean 100"
     ]
    },
    {
     "cell_type": "code",
     "collapsed": false,
     "input": [],
     "language": "python",
     "metadata": {},
     "outputs": []
    },
    {
     "cell_type": "markdown",
     "metadata": {},
     "source": [
      "From [10 Minutes to Pandas](http://pandas.pydata.org/pandas-docs/stable/10min.html)\n",
      "\n",
      "Intro to Pandas\n",
      "==============================================\n",
      "Pandas is a Python package providing fast, flexible, and expressive data structures designed to make working with \u201crelational\u201d or \u201clabeled\u201d data both easy and intuitive.\n",
      "\n",
      "Pandas is great for tabular/indexed data"
     ]
    },
    {
     "cell_type": "code",
     "collapsed": false,
     "input": [
      "import pandas as pd"
     ],
     "language": "python",
     "metadata": {},
     "outputs": [],
     "prompt_number": 161
    },
    {
     "cell_type": "markdown",
     "metadata": {},
     "source": [
      "Import data to pandas dataframe"
     ]
    },
    {
     "cell_type": "code",
     "collapsed": false,
     "input": [
      "data = pd.read_csv('../Lab2/titanic-train.csv')"
     ],
     "language": "python",
     "metadata": {},
     "outputs": [],
     "prompt_number": 162
    },
    {
     "cell_type": "markdown",
     "metadata": {},
     "source": [
      "Quick look at the data"
     ]
    },
    {
     "cell_type": "code",
     "collapsed": false,
     "input": [
      "data.head()"
     ],
     "language": "python",
     "metadata": {},
     "outputs": [
      {
       "html": [
        "<div style=\"max-height:1000px;max-width:1500px;overflow:auto;\">\n",
        "<table border=\"1\" class=\"dataframe\">\n",
        "  <thead>\n",
        "    <tr style=\"text-align: right;\">\n",
        "      <th></th>\n",
        "      <th>PassengerId</th>\n",
        "      <th>Survived</th>\n",
        "      <th>Pclass</th>\n",
        "      <th>Name</th>\n",
        "      <th>Sex</th>\n",
        "      <th>Age</th>\n",
        "      <th>SibSp</th>\n",
        "      <th>Parch</th>\n",
        "      <th>Ticket</th>\n",
        "      <th>Fare</th>\n",
        "      <th>Cabin</th>\n",
        "      <th>Embarked</th>\n",
        "    </tr>\n",
        "  </thead>\n",
        "  <tbody>\n",
        "    <tr>\n",
        "      <th>0</th>\n",
        "      <td> 1</td>\n",
        "      <td> 0</td>\n",
        "      <td> 3</td>\n",
        "      <td>                           Braund, Mr. Owen Harris</td>\n",
        "      <td>   male</td>\n",
        "      <td> 22</td>\n",
        "      <td> 1</td>\n",
        "      <td> 0</td>\n",
        "      <td>        A/5 21171</td>\n",
        "      <td>  7.2500</td>\n",
        "      <td>  NaN</td>\n",
        "      <td> S</td>\n",
        "    </tr>\n",
        "    <tr>\n",
        "      <th>1</th>\n",
        "      <td> 2</td>\n",
        "      <td> 1</td>\n",
        "      <td> 1</td>\n",
        "      <td> Cumings, Mrs. John Bradley (Florence Briggs Th...</td>\n",
        "      <td> female</td>\n",
        "      <td> 38</td>\n",
        "      <td> 1</td>\n",
        "      <td> 0</td>\n",
        "      <td>         PC 17599</td>\n",
        "      <td> 71.2833</td>\n",
        "      <td>  C85</td>\n",
        "      <td> C</td>\n",
        "    </tr>\n",
        "    <tr>\n",
        "      <th>2</th>\n",
        "      <td> 3</td>\n",
        "      <td> 1</td>\n",
        "      <td> 3</td>\n",
        "      <td>                            Heikkinen, Miss. Laina</td>\n",
        "      <td> female</td>\n",
        "      <td> 26</td>\n",
        "      <td> 0</td>\n",
        "      <td> 0</td>\n",
        "      <td> STON/O2. 3101282</td>\n",
        "      <td>  7.9250</td>\n",
        "      <td>  NaN</td>\n",
        "      <td> S</td>\n",
        "    </tr>\n",
        "    <tr>\n",
        "      <th>3</th>\n",
        "      <td> 4</td>\n",
        "      <td> 1</td>\n",
        "      <td> 1</td>\n",
        "      <td>      Futrelle, Mrs. Jacques Heath (Lily May Peel)</td>\n",
        "      <td> female</td>\n",
        "      <td> 35</td>\n",
        "      <td> 1</td>\n",
        "      <td> 0</td>\n",
        "      <td>           113803</td>\n",
        "      <td> 53.1000</td>\n",
        "      <td> C123</td>\n",
        "      <td> S</td>\n",
        "    </tr>\n",
        "    <tr>\n",
        "      <th>4</th>\n",
        "      <td> 5</td>\n",
        "      <td> 0</td>\n",
        "      <td> 3</td>\n",
        "      <td>                          Allen, Mr. William Henry</td>\n",
        "      <td>   male</td>\n",
        "      <td> 35</td>\n",
        "      <td> 0</td>\n",
        "      <td> 0</td>\n",
        "      <td>           373450</td>\n",
        "      <td>  8.0500</td>\n",
        "      <td>  NaN</td>\n",
        "      <td> S</td>\n",
        "    </tr>\n",
        "  </tbody>\n",
        "</table>\n",
        "</div>"
       ],
       "metadata": {},
       "output_type": "pyout",
       "prompt_number": 163,
       "text": [
        "   PassengerId  Survived  Pclass  \\\n",
        "0            1         0       3   \n",
        "1            2         1       1   \n",
        "2            3         1       3   \n",
        "3            4         1       1   \n",
        "4            5         0       3   \n",
        "\n",
        "                                                Name     Sex  Age  SibSp  \\\n",
        "0                            Braund, Mr. Owen Harris    male   22      1   \n",
        "1  Cumings, Mrs. John Bradley (Florence Briggs Th...  female   38      1   \n",
        "2                             Heikkinen, Miss. Laina  female   26      0   \n",
        "3       Futrelle, Mrs. Jacques Heath (Lily May Peel)  female   35      1   \n",
        "4                           Allen, Mr. William Henry    male   35      0   \n",
        "\n",
        "   Parch            Ticket     Fare Cabin Embarked  \n",
        "0      0         A/5 21171   7.2500   NaN        S  \n",
        "1      0          PC 17599  71.2833   C85        C  \n",
        "2      0  STON/O2. 3101282   7.9250   NaN        S  \n",
        "3      0            113803  53.1000  C123        S  \n",
        "4      0            373450   8.0500   NaN        S  "
       ]
      }
     ],
     "prompt_number": 163
    },
    {
     "cell_type": "markdown",
     "metadata": {},
     "source": [
      "Select columns a couple of different ways"
     ]
    },
    {
     "cell_type": "code",
     "collapsed": false,
     "input": [
      "# data['Age']\n",
      "# data.Age\n",
      "# data[['Name','Age']]"
     ],
     "language": "python",
     "metadata": {},
     "outputs": [],
     "prompt_number": 164
    },
    {
     "cell_type": "markdown",
     "metadata": {},
     "source": [
      "### Slicing Data"
     ]
    },
    {
     "cell_type": "code",
     "collapsed": false,
     "input": [
      "data[data.Age>65]"
     ],
     "language": "python",
     "metadata": {},
     "outputs": [
      {
       "html": [
        "<div style=\"max-height:1000px;max-width:1500px;overflow:auto;\">\n",
        "<table border=\"1\" class=\"dataframe\">\n",
        "  <thead>\n",
        "    <tr style=\"text-align: right;\">\n",
        "      <th></th>\n",
        "      <th>PassengerId</th>\n",
        "      <th>Survived</th>\n",
        "      <th>Pclass</th>\n",
        "      <th>Name</th>\n",
        "      <th>Sex</th>\n",
        "      <th>Age</th>\n",
        "      <th>SibSp</th>\n",
        "      <th>Parch</th>\n",
        "      <th>Ticket</th>\n",
        "      <th>Fare</th>\n",
        "      <th>Cabin</th>\n",
        "      <th>Embarked</th>\n",
        "    </tr>\n",
        "  </thead>\n",
        "  <tbody>\n",
        "    <tr>\n",
        "      <th>33 </th>\n",
        "      <td>  34</td>\n",
        "      <td> 0</td>\n",
        "      <td> 2</td>\n",
        "      <td>                Wheadon, Mr. Edward H</td>\n",
        "      <td> male</td>\n",
        "      <td> 66.0</td>\n",
        "      <td> 0</td>\n",
        "      <td> 0</td>\n",
        "      <td> C.A. 24579</td>\n",
        "      <td> 10.5000</td>\n",
        "      <td> NaN</td>\n",
        "      <td> S</td>\n",
        "    </tr>\n",
        "    <tr>\n",
        "      <th>96 </th>\n",
        "      <td>  97</td>\n",
        "      <td> 0</td>\n",
        "      <td> 1</td>\n",
        "      <td>            Goldschmidt, Mr. George B</td>\n",
        "      <td> male</td>\n",
        "      <td> 71.0</td>\n",
        "      <td> 0</td>\n",
        "      <td> 0</td>\n",
        "      <td>   PC 17754</td>\n",
        "      <td> 34.6542</td>\n",
        "      <td>  A5</td>\n",
        "      <td> C</td>\n",
        "    </tr>\n",
        "    <tr>\n",
        "      <th>116</th>\n",
        "      <td> 117</td>\n",
        "      <td> 0</td>\n",
        "      <td> 3</td>\n",
        "      <td>                 Connors, Mr. Patrick</td>\n",
        "      <td> male</td>\n",
        "      <td> 70.5</td>\n",
        "      <td> 0</td>\n",
        "      <td> 0</td>\n",
        "      <td>     370369</td>\n",
        "      <td>  7.7500</td>\n",
        "      <td> NaN</td>\n",
        "      <td> Q</td>\n",
        "    </tr>\n",
        "    <tr>\n",
        "      <th>493</th>\n",
        "      <td> 494</td>\n",
        "      <td> 0</td>\n",
        "      <td> 1</td>\n",
        "      <td>              Artagaveytia, Mr. Ramon</td>\n",
        "      <td> male</td>\n",
        "      <td> 71.0</td>\n",
        "      <td> 0</td>\n",
        "      <td> 0</td>\n",
        "      <td>   PC 17609</td>\n",
        "      <td> 49.5042</td>\n",
        "      <td> NaN</td>\n",
        "      <td> C</td>\n",
        "    </tr>\n",
        "    <tr>\n",
        "      <th>630</th>\n",
        "      <td> 631</td>\n",
        "      <td> 1</td>\n",
        "      <td> 1</td>\n",
        "      <td> Barkworth, Mr. Algernon Henry Wilson</td>\n",
        "      <td> male</td>\n",
        "      <td> 80.0</td>\n",
        "      <td> 0</td>\n",
        "      <td> 0</td>\n",
        "      <td>      27042</td>\n",
        "      <td> 30.0000</td>\n",
        "      <td> A23</td>\n",
        "      <td> S</td>\n",
        "    </tr>\n",
        "    <tr>\n",
        "      <th>672</th>\n",
        "      <td> 673</td>\n",
        "      <td> 0</td>\n",
        "      <td> 2</td>\n",
        "      <td>          Mitchell, Mr. Henry Michael</td>\n",
        "      <td> male</td>\n",
        "      <td> 70.0</td>\n",
        "      <td> 0</td>\n",
        "      <td> 0</td>\n",
        "      <td> C.A. 24580</td>\n",
        "      <td> 10.5000</td>\n",
        "      <td> NaN</td>\n",
        "      <td> S</td>\n",
        "    </tr>\n",
        "    <tr>\n",
        "      <th>745</th>\n",
        "      <td> 746</td>\n",
        "      <td> 0</td>\n",
        "      <td> 1</td>\n",
        "      <td>         Crosby, Capt. Edward Gifford</td>\n",
        "      <td> male</td>\n",
        "      <td> 70.0</td>\n",
        "      <td> 1</td>\n",
        "      <td> 1</td>\n",
        "      <td>  WE/P 5735</td>\n",
        "      <td> 71.0000</td>\n",
        "      <td> B22</td>\n",
        "      <td> S</td>\n",
        "    </tr>\n",
        "    <tr>\n",
        "      <th>851</th>\n",
        "      <td> 852</td>\n",
        "      <td> 0</td>\n",
        "      <td> 3</td>\n",
        "      <td>                  Svensson, Mr. Johan</td>\n",
        "      <td> male</td>\n",
        "      <td> 74.0</td>\n",
        "      <td> 0</td>\n",
        "      <td> 0</td>\n",
        "      <td>     347060</td>\n",
        "      <td>  7.7750</td>\n",
        "      <td> NaN</td>\n",
        "      <td> S</td>\n",
        "    </tr>\n",
        "  </tbody>\n",
        "</table>\n",
        "</div>"
       ],
       "metadata": {},
       "output_type": "pyout",
       "prompt_number": 165,
       "text": [
        "     PassengerId  Survived  Pclass                                  Name  \\\n",
        "33            34         0       2                 Wheadon, Mr. Edward H   \n",
        "96            97         0       1             Goldschmidt, Mr. George B   \n",
        "116          117         0       3                  Connors, Mr. Patrick   \n",
        "493          494         0       1               Artagaveytia, Mr. Ramon   \n",
        "630          631         1       1  Barkworth, Mr. Algernon Henry Wilson   \n",
        "672          673         0       2           Mitchell, Mr. Henry Michael   \n",
        "745          746         0       1          Crosby, Capt. Edward Gifford   \n",
        "851          852         0       3                   Svensson, Mr. Johan   \n",
        "\n",
        "      Sex   Age  SibSp  Parch      Ticket     Fare Cabin Embarked  \n",
        "33   male  66.0      0      0  C.A. 24579  10.5000   NaN        S  \n",
        "96   male  71.0      0      0    PC 17754  34.6542    A5        C  \n",
        "116  male  70.5      0      0      370369   7.7500   NaN        Q  \n",
        "493  male  71.0      0      0    PC 17609  49.5042   NaN        C  \n",
        "630  male  80.0      0      0       27042  30.0000   A23        S  \n",
        "672  male  70.0      0      0  C.A. 24580  10.5000   NaN        S  \n",
        "745  male  70.0      1      1   WE/P 5735  71.0000   B22        S  \n",
        "851  male  74.0      0      0      347060   7.7750   NaN        S  "
       ]
      }
     ],
     "prompt_number": 165
    },
    {
     "cell_type": "code",
     "collapsed": false,
     "input": [
      "data[(data.Age<10)&(data.Pclass==1)]"
     ],
     "language": "python",
     "metadata": {},
     "outputs": [
      {
       "html": [
        "<div style=\"max-height:1000px;max-width:1500px;overflow:auto;\">\n",
        "<table border=\"1\" class=\"dataframe\">\n",
        "  <thead>\n",
        "    <tr style=\"text-align: right;\">\n",
        "      <th></th>\n",
        "      <th>PassengerId</th>\n",
        "      <th>Survived</th>\n",
        "      <th>Pclass</th>\n",
        "      <th>Name</th>\n",
        "      <th>Sex</th>\n",
        "      <th>Age</th>\n",
        "      <th>SibSp</th>\n",
        "      <th>Parch</th>\n",
        "      <th>Ticket</th>\n",
        "      <th>Fare</th>\n",
        "      <th>Cabin</th>\n",
        "      <th>Embarked</th>\n",
        "    </tr>\n",
        "  </thead>\n",
        "  <tbody>\n",
        "    <tr>\n",
        "      <th>297</th>\n",
        "      <td> 298</td>\n",
        "      <td> 0</td>\n",
        "      <td> 1</td>\n",
        "      <td>   Allison, Miss. Helen Loraine</td>\n",
        "      <td> female</td>\n",
        "      <td> 2.00</td>\n",
        "      <td> 1</td>\n",
        "      <td> 2</td>\n",
        "      <td> 113781</td>\n",
        "      <td> 151.5500</td>\n",
        "      <td> C22 C26</td>\n",
        "      <td> S</td>\n",
        "    </tr>\n",
        "    <tr>\n",
        "      <th>305</th>\n",
        "      <td> 306</td>\n",
        "      <td> 1</td>\n",
        "      <td> 1</td>\n",
        "      <td> Allison, Master. Hudson Trevor</td>\n",
        "      <td>   male</td>\n",
        "      <td> 0.92</td>\n",
        "      <td> 1</td>\n",
        "      <td> 2</td>\n",
        "      <td> 113781</td>\n",
        "      <td> 151.5500</td>\n",
        "      <td> C22 C26</td>\n",
        "      <td> S</td>\n",
        "    </tr>\n",
        "    <tr>\n",
        "      <th>445</th>\n",
        "      <td> 446</td>\n",
        "      <td> 1</td>\n",
        "      <td> 1</td>\n",
        "      <td>      Dodge, Master. Washington</td>\n",
        "      <td>   male</td>\n",
        "      <td> 4.00</td>\n",
        "      <td> 0</td>\n",
        "      <td> 2</td>\n",
        "      <td>  33638</td>\n",
        "      <td>  81.8583</td>\n",
        "      <td>     A34</td>\n",
        "      <td> S</td>\n",
        "    </tr>\n",
        "  </tbody>\n",
        "</table>\n",
        "</div>"
       ],
       "metadata": {},
       "output_type": "pyout",
       "prompt_number": 166,
       "text": [
        "     PassengerId  Survived  Pclass                            Name     Sex  \\\n",
        "297          298         0       1    Allison, Miss. Helen Loraine  female   \n",
        "305          306         1       1  Allison, Master. Hudson Trevor    male   \n",
        "445          446         1       1       Dodge, Master. Washington    male   \n",
        "\n",
        "      Age  SibSp  Parch  Ticket      Fare    Cabin Embarked  \n",
        "297  2.00      1      2  113781  151.5500  C22 C26        S  \n",
        "305  0.92      1      2  113781  151.5500  C22 C26        S  \n",
        "445  4.00      0      2   33638   81.8583      A34        S  "
       ]
      }
     ],
     "prompt_number": 166
    },
    {
     "cell_type": "code",
     "collapsed": false,
     "input": [
      "data[(data.Age==10)|(data.SibSp==5)]"
     ],
     "language": "python",
     "metadata": {},
     "outputs": [
      {
       "html": [
        "<div style=\"max-height:1000px;max-width:1500px;overflow:auto;\">\n",
        "<table border=\"1\" class=\"dataframe\">\n",
        "  <thead>\n",
        "    <tr style=\"text-align: right;\">\n",
        "      <th></th>\n",
        "      <th>PassengerId</th>\n",
        "      <th>Survived</th>\n",
        "      <th>Pclass</th>\n",
        "      <th>Name</th>\n",
        "      <th>Sex</th>\n",
        "      <th>Age</th>\n",
        "      <th>SibSp</th>\n",
        "      <th>Parch</th>\n",
        "      <th>Ticket</th>\n",
        "      <th>Fare</th>\n",
        "      <th>Cabin</th>\n",
        "      <th>Embarked</th>\n",
        "    </tr>\n",
        "  </thead>\n",
        "  <tbody>\n",
        "    <tr>\n",
        "      <th>59 </th>\n",
        "      <td>  60</td>\n",
        "      <td> 0</td>\n",
        "      <td> 3</td>\n",
        "      <td> Goodwin, Master. William Frederick</td>\n",
        "      <td>   male</td>\n",
        "      <td> 11</td>\n",
        "      <td> 5</td>\n",
        "      <td> 2</td>\n",
        "      <td> CA 2144</td>\n",
        "      <td> 46.90</td>\n",
        "      <td> NaN</td>\n",
        "      <td> S</td>\n",
        "    </tr>\n",
        "    <tr>\n",
        "      <th>71 </th>\n",
        "      <td>  72</td>\n",
        "      <td> 0</td>\n",
        "      <td> 3</td>\n",
        "      <td>         Goodwin, Miss. Lillian Amy</td>\n",
        "      <td> female</td>\n",
        "      <td> 16</td>\n",
        "      <td> 5</td>\n",
        "      <td> 2</td>\n",
        "      <td> CA 2144</td>\n",
        "      <td> 46.90</td>\n",
        "      <td> NaN</td>\n",
        "      <td> S</td>\n",
        "    </tr>\n",
        "    <tr>\n",
        "      <th>386</th>\n",
        "      <td> 387</td>\n",
        "      <td> 0</td>\n",
        "      <td> 3</td>\n",
        "      <td>    Goodwin, Master. Sidney Leonard</td>\n",
        "      <td>   male</td>\n",
        "      <td>  1</td>\n",
        "      <td> 5</td>\n",
        "      <td> 2</td>\n",
        "      <td> CA 2144</td>\n",
        "      <td> 46.90</td>\n",
        "      <td> NaN</td>\n",
        "      <td> S</td>\n",
        "    </tr>\n",
        "    <tr>\n",
        "      <th>419</th>\n",
        "      <td> 420</td>\n",
        "      <td> 0</td>\n",
        "      <td> 3</td>\n",
        "      <td>          Van Impe, Miss. Catharina</td>\n",
        "      <td> female</td>\n",
        "      <td> 10</td>\n",
        "      <td> 0</td>\n",
        "      <td> 2</td>\n",
        "      <td>  345773</td>\n",
        "      <td> 24.15</td>\n",
        "      <td> NaN</td>\n",
        "      <td> S</td>\n",
        "    </tr>\n",
        "    <tr>\n",
        "      <th>480</th>\n",
        "      <td> 481</td>\n",
        "      <td> 0</td>\n",
        "      <td> 3</td>\n",
        "      <td>     Goodwin, Master. Harold Victor</td>\n",
        "      <td>   male</td>\n",
        "      <td>  9</td>\n",
        "      <td> 5</td>\n",
        "      <td> 2</td>\n",
        "      <td> CA 2144</td>\n",
        "      <td> 46.90</td>\n",
        "      <td> NaN</td>\n",
        "      <td> S</td>\n",
        "    </tr>\n",
        "    <tr>\n",
        "      <th>683</th>\n",
        "      <td> 684</td>\n",
        "      <td> 0</td>\n",
        "      <td> 3</td>\n",
        "      <td>        Goodwin, Mr. Charles Edward</td>\n",
        "      <td>   male</td>\n",
        "      <td> 14</td>\n",
        "      <td> 5</td>\n",
        "      <td> 2</td>\n",
        "      <td> CA 2144</td>\n",
        "      <td> 46.90</td>\n",
        "      <td> NaN</td>\n",
        "      <td> S</td>\n",
        "    </tr>\n",
        "    <tr>\n",
        "      <th>819</th>\n",
        "      <td> 820</td>\n",
        "      <td> 0</td>\n",
        "      <td> 3</td>\n",
        "      <td>       Skoog, Master. Karl Thorsten</td>\n",
        "      <td>   male</td>\n",
        "      <td> 10</td>\n",
        "      <td> 3</td>\n",
        "      <td> 2</td>\n",
        "      <td>  347088</td>\n",
        "      <td> 27.90</td>\n",
        "      <td> NaN</td>\n",
        "      <td> S</td>\n",
        "    </tr>\n",
        "  </tbody>\n",
        "</table>\n",
        "</div>"
       ],
       "metadata": {},
       "output_type": "pyout",
       "prompt_number": 167,
       "text": [
        "     PassengerId  Survived  Pclass                                Name  \\\n",
        "59            60         0       3  Goodwin, Master. William Frederick   \n",
        "71            72         0       3          Goodwin, Miss. Lillian Amy   \n",
        "386          387         0       3     Goodwin, Master. Sidney Leonard   \n",
        "419          420         0       3           Van Impe, Miss. Catharina   \n",
        "480          481         0       3      Goodwin, Master. Harold Victor   \n",
        "683          684         0       3         Goodwin, Mr. Charles Edward   \n",
        "819          820         0       3        Skoog, Master. Karl Thorsten   \n",
        "\n",
        "        Sex  Age  SibSp  Parch   Ticket   Fare Cabin Embarked  \n",
        "59     male   11      5      2  CA 2144  46.90   NaN        S  \n",
        "71   female   16      5      2  CA 2144  46.90   NaN        S  \n",
        "386    male    1      5      2  CA 2144  46.90   NaN        S  \n",
        "419  female   10      0      2   345773  24.15   NaN        S  \n",
        "480    male    9      5      2  CA 2144  46.90   NaN        S  \n",
        "683    male   14      5      2  CA 2144  46.90   NaN        S  \n",
        "819    male   10      3      2   347088  27.90   NaN        S  "
       ]
      }
     ],
     "prompt_number": 167
    },
    {
     "cell_type": "markdown",
     "metadata": {},
     "source": [
      "### Indexing Values"
     ]
    },
    {
     "cell_type": "code",
     "collapsed": false,
     "input": [
      "# data[0:2]\n",
      "# data.ix[0:2]\n",
      "\n",
      "# data.loc[0:2]\n",
      "# data.iloc[0:2]"
     ],
     "language": "python",
     "metadata": {},
     "outputs": [],
     "prompt_number": 168
    },
    {
     "cell_type": "code",
     "collapsed": false,
     "input": [
      "new_data = data[data.Age>50]\n",
      "\n",
      "# new_data.ix[0:2]\n",
      "# new_data.iloc[0:2]"
     ],
     "language": "python",
     "metadata": {},
     "outputs": [],
     "prompt_number": 169
    },
    {
     "cell_type": "markdown",
     "metadata": {},
     "source": [
      "### Cleaning Data"
     ]
    },
    {
     "cell_type": "code",
     "collapsed": false,
     "input": [
      "data.info()"
     ],
     "language": "python",
     "metadata": {},
     "outputs": [
      {
       "output_type": "stream",
       "stream": "stdout",
       "text": [
        "<class 'pandas.core.frame.DataFrame'>\n",
        "Int64Index: 891 entries, 0 to 890\n",
        "Data columns (total 12 columns):\n",
        "PassengerId    891 non-null int64\n",
        "Survived       891 non-null int64\n",
        "Pclass         891 non-null int64\n",
        "Name           891 non-null object\n",
        "Sex            891 non-null object\n",
        "Age            714 non-null float64\n",
        "SibSp          891 non-null int64\n",
        "Parch          891 non-null int64\n",
        "Ticket         891 non-null object\n",
        "Fare           891 non-null float64\n",
        "Cabin          204 non-null object\n",
        "Embarked       889 non-null object\n",
        "dtypes: float64(2), int64(5), object(5)"
       ]
      }
     ],
     "prompt_number": 170
    },
    {
     "cell_type": "markdown",
     "metadata": {},
     "source": [
      "### Techniques for Null Values\n",
      "\n",
      "#### Exclude data"
     ]
    },
    {
     "cell_type": "code",
     "collapsed": false,
     "input": [
      "# data.Age.isnull()\n",
      "# data[data.Age.notnull()]"
     ],
     "language": "python",
     "metadata": {},
     "outputs": [],
     "prompt_number": 171
    },
    {
     "cell_type": "markdown",
     "metadata": {},
     "source": [
      "#### Replace with zero"
     ]
    },
    {
     "cell_type": "code",
     "collapsed": false,
     "input": [
      "# data.Age.fillna(0)"
     ],
     "language": "python",
     "metadata": {},
     "outputs": [],
     "prompt_number": 172
    },
    {
     "cell_type": "markdown",
     "metadata": {},
     "source": [
      "#### Replace with mean"
     ]
    },
    {
     "cell_type": "code",
     "collapsed": false,
     "input": [
      "# avg_age = data.Age[data.Age.notnull()].mean()\n",
      "# data.Age.fillna(avg_age)"
     ],
     "language": "python",
     "metadata": {},
     "outputs": [],
     "prompt_number": 173
    },
    {
     "cell_type": "markdown",
     "metadata": {},
     "source": [
      "#### Replace with random normal distribution"
     ]
    },
    {
     "cell_type": "code",
     "collapsed": false,
     "input": [
      "# Get values of mean and standard deviation\n",
      "# data.Age[data.Age.notnull()].describe()"
     ],
     "language": "python",
     "metadata": {},
     "outputs": [],
     "prompt_number": 174
    },
    {
     "cell_type": "code",
     "collapsed": false,
     "input": [
      "# Calculate number of null values\n",
      "# 891-714"
     ],
     "language": "python",
     "metadata": {},
     "outputs": [],
     "prompt_number": 175
    },
    {
     "cell_type": "code",
     "collapsed": false,
     "input": [
      "# Replace null values with \n",
      "# data.Age.fillna(np.random.normal(29.7,14.5,177))"
     ],
     "language": "python",
     "metadata": {},
     "outputs": [],
     "prompt_number": 176
    },
    {
     "cell_type": "markdown",
     "metadata": {},
     "source": [
      "### Convert categorical to numerical"
     ]
    },
    {
     "cell_type": "code",
     "collapsed": false,
     "input": [
      "# data.Sex=='female'"
     ],
     "language": "python",
     "metadata": {},
     "outputs": [],
     "prompt_number": 177
    },
    {
     "cell_type": "code",
     "collapsed": false,
     "input": [
      "# data.rename(columns={'Sex':'Is Female'},inplace=True)\n",
      "# data.Sex=data.Sex=='female'\n",
      "# data.head()"
     ],
     "language": "python",
     "metadata": {},
     "outputs": [],
     "prompt_number": 178
    },
    {
     "cell_type": "code",
     "collapsed": false,
     "input": [
      "# get unique values of Embarked\n",
      "# data.Embarked.unique()"
     ],
     "language": "python",
     "metadata": {},
     "outputs": [],
     "prompt_number": 179
    },
    {
     "cell_type": "code",
     "collapsed": false,
     "input": [
      "# replace values with numbers\n",
      "# data.Embarked.replace(['S', 'C', 'Q'],[1,2,3],inplace=True)\n",
      "# data.head()"
     ],
     "language": "python",
     "metadata": {},
     "outputs": [],
     "prompt_number": 180
    },
    {
     "cell_type": "markdown",
     "metadata": {},
     "source": [
      "### Group By"
     ]
    },
    {
     "cell_type": "code",
     "collapsed": false,
     "input": [
      "# Find average age of passengers that survived vs. died\n",
      "# data.groupby('Survived')['Age'].mean()"
     ],
     "language": "python",
     "metadata": {},
     "outputs": [],
     "prompt_number": 181
    },
    {
     "cell_type": "code",
     "collapsed": false,
     "input": [
      "# Count number of female passengers\n",
      "# data.groupby('Is Female')['PassengerId'].count()"
     ],
     "language": "python",
     "metadata": {},
     "outputs": [],
     "prompt_number": 182
    },
    {
     "cell_type": "markdown",
     "metadata": {},
     "source": [
      "### Apply"
     ]
    },
    {
     "cell_type": "code",
     "collapsed": false,
     "input": [
      "# Convert ticket prices to USD\n",
      "# data.Fare.apply(lambda x: x*1.6)"
     ],
     "language": "python",
     "metadata": {},
     "outputs": [],
     "prompt_number": 189
    },
    {
     "cell_type": "markdown",
     "metadata": {},
     "source": [
      "### Concatenate"
     ]
    },
    {
     "cell_type": "code",
     "collapsed": false,
     "input": [
      "# data_first_half = data.iloc[0:10,:]\n",
      "# data_first_half"
     ],
     "language": "python",
     "metadata": {},
     "outputs": [],
     "prompt_number": 190
    },
    {
     "cell_type": "code",
     "collapsed": false,
     "input": [
      "# data_second_half = data.iloc[10:,:]\n",
      "# data_second_half.head()"
     ],
     "language": "python",
     "metadata": {},
     "outputs": [],
     "prompt_number": 191
    },
    {
     "cell_type": "code",
     "collapsed": false,
     "input": [
      "# remake_data = pd.concat([data_first_half,data_second_half])\n",
      "# remake_data"
     ],
     "language": "python",
     "metadata": {},
     "outputs": [],
     "prompt_number": 192
    },
    {
     "cell_type": "markdown",
     "metadata": {},
     "source": [
      "### EXERCISE 2\n",
      "\n",
      "#### Replace Pclass numbers with 'First Class', 'Second Class', 'Third Class'\n",
      "\n",
      "#### What was the average ticket price for survivors vs. dead passengers? "
     ]
    },
    {
     "cell_type": "code",
     "collapsed": false,
     "input": [],
     "language": "python",
     "metadata": {},
     "outputs": []
    },
    {
     "cell_type": "markdown",
     "metadata": {},
     "source": [
      "### Bonus\n",
      "\n",
      "#### Round all ages to the nearest year using apply"
     ]
    },
    {
     "cell_type": "code",
     "collapsed": false,
     "input": [],
     "language": "python",
     "metadata": {},
     "outputs": []
    },
    {
     "cell_type": "code",
     "collapsed": false,
     "input": [],
     "language": "python",
     "metadata": {},
     "outputs": []
    },
    {
     "cell_type": "markdown",
     "metadata": {},
     "source": [
      "## Kimono Labs\n",
      "\n"
     ]
    },
    {
     "cell_type": "markdown",
     "metadata": {},
     "source": [
      "Web scraping with the Kimono Labs API\n",
      "\n",
      "https://www.kimonolabs.com/"
     ]
    },
    {
     "cell_type": "code",
     "collapsed": false,
     "input": [
      "import yaml\n",
      "credentials = yaml.load(open('/users/Craig_Sakuma/api_cred.yml'))\n",
      "api_key = credentials['kimono_key']"
     ],
     "language": "python",
     "metadata": {},
     "outputs": [],
     "prompt_number": 196
    },
    {
     "cell_type": "code",
     "collapsed": false,
     "input": [
      "import json\n",
      "import urllib\n",
      "\n",
      "def getMovies(year, api_key=api_key):\n",
      "    \"\"\"\n",
      "    Creates list of top 50 movies by gross box office\n",
      "    sales for a year with ratings and sales\n",
      "    \"\"\"\n",
      "    \n",
      "    movies, ratings, sales = [], [], []\n",
      "    url = \"https://www.kimonolabs.com/api/eeikle7m?\" + \\\n",
      "            \"apikey={}\".format(api_key) + \\\n",
      "            \"&release_date={year}\".format(year=year) \n",
      "    \n",
      "    data = json.load(urllib.urlopen(url))\n",
      "    \n",
      "    # Iterate through json object to collect data\n",
      "    for n in xrange(data['count']):\n",
      "        n_title = data['results']['collection1'][n]['title']['text']\n",
      "        n_rating = data['results']['collection1'][n]['rating']\n",
      "        n_sales = data['results']['collection1'][n]['sales']\n",
      "        movies.append(n_title)\n",
      "        ratings.append(n_rating)\n",
      "        sales.append(n_sales)\n",
      "    \n",
      "    data = pd.DataFrame({'movie':movies,'rating':ratings,'sales':sales})\n",
      "    \n",
      "    return data\n"
     ],
     "language": "python",
     "metadata": {},
     "outputs": [],
     "prompt_number": 197
    },
    {
     "cell_type": "code",
     "collapsed": false,
     "input": [
      "movies_1990 = getMovies(1990)\n",
      "movies_1990.head()"
     ],
     "language": "python",
     "metadata": {},
     "outputs": [
      {
       "html": [
        "<div style=\"max-height:1000px;max-width:1500px;overflow:auto;\">\n",
        "<table border=\"1\" class=\"dataframe\">\n",
        "  <thead>\n",
        "    <tr style=\"text-align: right;\">\n",
        "      <th></th>\n",
        "      <th>movie</th>\n",
        "      <th>rating</th>\n",
        "      <th>sales</th>\n",
        "    </tr>\n",
        "  </thead>\n",
        "  <tbody>\n",
        "    <tr>\n",
        "      <th>0</th>\n",
        "      <td>                   Home Alone</td>\n",
        "      <td> 7.4</td>\n",
        "      <td> $286M</td>\n",
        "    </tr>\n",
        "    <tr>\n",
        "      <th>1</th>\n",
        "      <td>                        Ghost</td>\n",
        "      <td> 7.0</td>\n",
        "      <td> $218M</td>\n",
        "    </tr>\n",
        "    <tr>\n",
        "      <th>2</th>\n",
        "      <td>           Dances with Wolves</td>\n",
        "      <td> 8.0</td>\n",
        "      <td> $184M</td>\n",
        "    </tr>\n",
        "    <tr>\n",
        "      <th>3</th>\n",
        "      <td>                 Pretty Woman</td>\n",
        "      <td> 6.9</td>\n",
        "      <td> $178M</td>\n",
        "    </tr>\n",
        "    <tr>\n",
        "      <th>4</th>\n",
        "      <td> Teenage Mutant Ninja Turtles</td>\n",
        "      <td> 6.7</td>\n",
        "      <td> $135M</td>\n",
        "    </tr>\n",
        "  </tbody>\n",
        "</table>\n",
        "</div>"
       ],
       "metadata": {},
       "output_type": "pyout",
       "prompt_number": 207,
       "text": [
        "                          movie rating  sales\n",
        "0                    Home Alone    7.4  $286M\n",
        "1                         Ghost    7.0  $218M\n",
        "2            Dances with Wolves    8.0  $184M\n",
        "3                  Pretty Woman    6.9  $178M\n",
        "4  Teenage Mutant Ninja Turtles    6.7  $135M"
       ]
      }
     ],
     "prompt_number": 207
    },
    {
     "cell_type": "code",
     "collapsed": false,
     "input": [
      "movies_2000 = getMovies(2000)\n",
      "movies_2000.head()"
     ],
     "language": "python",
     "metadata": {},
     "outputs": [
      {
       "html": [
        "<div style=\"max-height:1000px;max-width:1500px;overflow:auto;\">\n",
        "<table border=\"1\" class=\"dataframe\">\n",
        "  <thead>\n",
        "    <tr style=\"text-align: right;\">\n",
        "      <th></th>\n",
        "      <th>movie</th>\n",
        "      <th>rating</th>\n",
        "      <th>sales</th>\n",
        "    </tr>\n",
        "  </thead>\n",
        "  <tbody>\n",
        "    <tr>\n",
        "      <th>0</th>\n",
        "      <td> How the Grinch Stole Christmas</td>\n",
        "      <td> 5.9</td>\n",
        "      <td> $260M</td>\n",
        "    </tr>\n",
        "    <tr>\n",
        "      <th>1</th>\n",
        "      <td>                      Cast Away</td>\n",
        "      <td> 7.7</td>\n",
        "      <td> $234M</td>\n",
        "    </tr>\n",
        "    <tr>\n",
        "      <th>2</th>\n",
        "      <td>         Mission: Impossible II</td>\n",
        "      <td> 6.0</td>\n",
        "      <td> $215M</td>\n",
        "    </tr>\n",
        "    <tr>\n",
        "      <th>3</th>\n",
        "      <td>                      Gladiator</td>\n",
        "      <td> 8.5</td>\n",
        "      <td> $188M</td>\n",
        "    </tr>\n",
        "    <tr>\n",
        "      <th>4</th>\n",
        "      <td>                What Women Want</td>\n",
        "      <td> 6.4</td>\n",
        "      <td> $183M</td>\n",
        "    </tr>\n",
        "  </tbody>\n",
        "</table>\n",
        "</div>"
       ],
       "metadata": {},
       "output_type": "pyout",
       "prompt_number": 208,
       "text": [
        "                            movie rating  sales\n",
        "0  How the Grinch Stole Christmas    5.9  $260M\n",
        "1                       Cast Away    7.7  $234M\n",
        "2          Mission: Impossible II    6.0  $215M\n",
        "3                       Gladiator    8.5  $188M\n",
        "4                 What Women Want    6.4  $183M"
       ]
      }
     ],
     "prompt_number": 208
    },
    {
     "cell_type": "code",
     "collapsed": false,
     "input": [
      "all_movies = pd.concat([movies_1990, movies_2000])"
     ],
     "language": "python",
     "metadata": {},
     "outputs": [],
     "prompt_number": 212
    },
    {
     "cell_type": "code",
     "collapsed": false,
     "input": [
      "all_movies.iloc[0:5]"
     ],
     "language": "python",
     "metadata": {},
     "outputs": [
      {
       "html": [
        "<div style=\"max-height:1000px;max-width:1500px;overflow:auto;\">\n",
        "<table border=\"1\" class=\"dataframe\">\n",
        "  <thead>\n",
        "    <tr style=\"text-align: right;\">\n",
        "      <th></th>\n",
        "      <th>movie</th>\n",
        "      <th>rating</th>\n",
        "      <th>sales</th>\n",
        "    </tr>\n",
        "  </thead>\n",
        "  <tbody>\n",
        "    <tr>\n",
        "      <th>0</th>\n",
        "      <td>                   Home Alone</td>\n",
        "      <td> 7.4</td>\n",
        "      <td> $286M</td>\n",
        "    </tr>\n",
        "    <tr>\n",
        "      <th>1</th>\n",
        "      <td>                        Ghost</td>\n",
        "      <td> 7.0</td>\n",
        "      <td> $218M</td>\n",
        "    </tr>\n",
        "    <tr>\n",
        "      <th>2</th>\n",
        "      <td>           Dances with Wolves</td>\n",
        "      <td> 8.0</td>\n",
        "      <td> $184M</td>\n",
        "    </tr>\n",
        "    <tr>\n",
        "      <th>3</th>\n",
        "      <td>                 Pretty Woman</td>\n",
        "      <td> 6.9</td>\n",
        "      <td> $178M</td>\n",
        "    </tr>\n",
        "    <tr>\n",
        "      <th>4</th>\n",
        "      <td> Teenage Mutant Ninja Turtles</td>\n",
        "      <td> 6.7</td>\n",
        "      <td> $135M</td>\n",
        "    </tr>\n",
        "  </tbody>\n",
        "</table>\n",
        "</div>"
       ],
       "metadata": {},
       "output_type": "pyout",
       "prompt_number": 215,
       "text": [
        "                          movie rating  sales\n",
        "0                    Home Alone    7.4  $286M\n",
        "1                         Ghost    7.0  $218M\n",
        "2            Dances with Wolves    8.0  $184M\n",
        "3                  Pretty Woman    6.9  $178M\n",
        "4  Teenage Mutant Ninja Turtles    6.7  $135M"
       ]
      }
     ],
     "prompt_number": 215
    },
    {
     "cell_type": "code",
     "collapsed": false,
     "input": [
      "all_movies.iloc[50:55]"
     ],
     "language": "python",
     "metadata": {},
     "outputs": [
      {
       "html": [
        "<div style=\"max-height:1000px;max-width:1500px;overflow:auto;\">\n",
        "<table border=\"1\" class=\"dataframe\">\n",
        "  <thead>\n",
        "    <tr style=\"text-align: right;\">\n",
        "      <th></th>\n",
        "      <th>movie</th>\n",
        "      <th>rating</th>\n",
        "      <th>sales</th>\n",
        "    </tr>\n",
        "  </thead>\n",
        "  <tbody>\n",
        "    <tr>\n",
        "      <th>0</th>\n",
        "      <td> How the Grinch Stole Christmas</td>\n",
        "      <td> 5.9</td>\n",
        "      <td> $260M</td>\n",
        "    </tr>\n",
        "    <tr>\n",
        "      <th>1</th>\n",
        "      <td>                      Cast Away</td>\n",
        "      <td> 7.7</td>\n",
        "      <td> $234M</td>\n",
        "    </tr>\n",
        "    <tr>\n",
        "      <th>2</th>\n",
        "      <td>         Mission: Impossible II</td>\n",
        "      <td> 6.0</td>\n",
        "      <td> $215M</td>\n",
        "    </tr>\n",
        "    <tr>\n",
        "      <th>3</th>\n",
        "      <td>                      Gladiator</td>\n",
        "      <td> 8.5</td>\n",
        "      <td> $188M</td>\n",
        "    </tr>\n",
        "    <tr>\n",
        "      <th>4</th>\n",
        "      <td>                What Women Want</td>\n",
        "      <td> 6.4</td>\n",
        "      <td> $183M</td>\n",
        "    </tr>\n",
        "  </tbody>\n",
        "</table>\n",
        "</div>"
       ],
       "metadata": {},
       "output_type": "pyout",
       "prompt_number": 214,
       "text": [
        "                            movie rating  sales\n",
        "0  How the Grinch Stole Christmas    5.9  $260M\n",
        "1                       Cast Away    7.7  $234M\n",
        "2          Mission: Impossible II    6.0  $215M\n",
        "3                       Gladiator    8.5  $188M\n",
        "4                 What Women Want    6.4  $183M"
       ]
      }
     ],
     "prompt_number": 214
    },
    {
     "cell_type": "code",
     "collapsed": false,
     "input": [
      "all_movies.ix[0:5]"
     ],
     "language": "python",
     "metadata": {},
     "outputs": [
      {
       "ename": "KeyError",
       "evalue": "'cannot peform a slice operation on a non-unique non-monotonic index'",
       "output_type": "pyerr",
       "traceback": [
        "\u001b[0;31m---------------------------------------------------------------------------\u001b[0m\n\u001b[0;31mKeyError\u001b[0m                                  Traceback (most recent call last)",
        "\u001b[0;32m<ipython-input-216-ebc3e723f43a>\u001b[0m in \u001b[0;36m<module>\u001b[0;34m()\u001b[0m\n\u001b[0;32m----> 1\u001b[0;31m \u001b[0mall_movies\u001b[0m\u001b[0;34m.\u001b[0m\u001b[0mix\u001b[0m\u001b[0;34m[\u001b[0m\u001b[0;36m0\u001b[0m\u001b[0;34m:\u001b[0m\u001b[0;36m5\u001b[0m\u001b[0;34m]\u001b[0m\u001b[0;34m\u001b[0m\u001b[0m\n\u001b[0m",
        "\u001b[0;32m/Users/Craig_Sakuma/anaconda/lib/python2.7/site-packages/pandas/core/indexing.pyc\u001b[0m in \u001b[0;36m__getitem__\u001b[0;34m(self, key)\u001b[0m\n\u001b[1;32m     68\u001b[0m             \u001b[0;32mreturn\u001b[0m \u001b[0mself\u001b[0m\u001b[0;34m.\u001b[0m\u001b[0m_getitem_tuple\u001b[0m\u001b[0;34m(\u001b[0m\u001b[0mkey\u001b[0m\u001b[0;34m)\u001b[0m\u001b[0;34m\u001b[0m\u001b[0m\n\u001b[1;32m     69\u001b[0m         \u001b[0;32melse\u001b[0m\u001b[0;34m:\u001b[0m\u001b[0;34m\u001b[0m\u001b[0m\n\u001b[0;32m---> 70\u001b[0;31m             \u001b[0;32mreturn\u001b[0m \u001b[0mself\u001b[0m\u001b[0;34m.\u001b[0m\u001b[0m_getitem_axis\u001b[0m\u001b[0;34m(\u001b[0m\u001b[0mkey\u001b[0m\u001b[0;34m,\u001b[0m \u001b[0maxis\u001b[0m\u001b[0;34m=\u001b[0m\u001b[0;36m0\u001b[0m\u001b[0;34m)\u001b[0m\u001b[0;34m\u001b[0m\u001b[0m\n\u001b[0m\u001b[1;32m     71\u001b[0m \u001b[0;34m\u001b[0m\u001b[0m\n\u001b[1;32m     72\u001b[0m     \u001b[0;32mdef\u001b[0m \u001b[0m_get_label\u001b[0m\u001b[0;34m(\u001b[0m\u001b[0mself\u001b[0m\u001b[0;34m,\u001b[0m \u001b[0mlabel\u001b[0m\u001b[0;34m,\u001b[0m \u001b[0maxis\u001b[0m\u001b[0;34m=\u001b[0m\u001b[0;36m0\u001b[0m\u001b[0;34m)\u001b[0m\u001b[0;34m:\u001b[0m\u001b[0;34m\u001b[0m\u001b[0m\n",
        "\u001b[0;32m/Users/Craig_Sakuma/anaconda/lib/python2.7/site-packages/pandas/core/indexing.pyc\u001b[0m in \u001b[0;36m_getitem_axis\u001b[0;34m(self, key, axis, validate_iterable)\u001b[0m\n\u001b[1;32m    842\u001b[0m         \u001b[0mlabels\u001b[0m \u001b[0;34m=\u001b[0m \u001b[0mself\u001b[0m\u001b[0;34m.\u001b[0m\u001b[0mobj\u001b[0m\u001b[0;34m.\u001b[0m\u001b[0m_get_axis\u001b[0m\u001b[0;34m(\u001b[0m\u001b[0maxis\u001b[0m\u001b[0;34m)\u001b[0m\u001b[0;34m\u001b[0m\u001b[0m\n\u001b[1;32m    843\u001b[0m         \u001b[0;32mif\u001b[0m \u001b[0misinstance\u001b[0m\u001b[0;34m(\u001b[0m\u001b[0mkey\u001b[0m\u001b[0;34m,\u001b[0m \u001b[0mslice\u001b[0m\u001b[0;34m)\u001b[0m\u001b[0;34m:\u001b[0m\u001b[0;34m\u001b[0m\u001b[0m\n\u001b[0;32m--> 844\u001b[0;31m             \u001b[0;32mreturn\u001b[0m \u001b[0mself\u001b[0m\u001b[0;34m.\u001b[0m\u001b[0m_get_slice_axis\u001b[0m\u001b[0;34m(\u001b[0m\u001b[0mkey\u001b[0m\u001b[0;34m,\u001b[0m \u001b[0maxis\u001b[0m\u001b[0;34m=\u001b[0m\u001b[0maxis\u001b[0m\u001b[0;34m)\u001b[0m\u001b[0;34m\u001b[0m\u001b[0m\n\u001b[0m\u001b[1;32m    845\u001b[0m         elif _is_list_like(key) and not (isinstance(key, tuple) and\n\u001b[1;32m    846\u001b[0m                                          isinstance(labels, MultiIndex)):\n",
        "\u001b[0;32m/Users/Craig_Sakuma/anaconda/lib/python2.7/site-packages/pandas/core/indexing.pyc\u001b[0m in \u001b[0;36m_get_slice_axis\u001b[0;34m(self, slice_obj, axis)\u001b[0m\n\u001b[1;32m   1089\u001b[0m         \u001b[0;32mif\u001b[0m \u001b[0;32mnot\u001b[0m \u001b[0m_need_slice\u001b[0m\u001b[0;34m(\u001b[0m\u001b[0mslice_obj\u001b[0m\u001b[0;34m)\u001b[0m\u001b[0;34m:\u001b[0m\u001b[0;34m\u001b[0m\u001b[0m\n\u001b[1;32m   1090\u001b[0m             \u001b[0;32mreturn\u001b[0m \u001b[0mobj\u001b[0m\u001b[0;34m\u001b[0m\u001b[0m\n\u001b[0;32m-> 1091\u001b[0;31m         \u001b[0mindexer\u001b[0m \u001b[0;34m=\u001b[0m \u001b[0mself\u001b[0m\u001b[0;34m.\u001b[0m\u001b[0m_convert_slice_indexer\u001b[0m\u001b[0;34m(\u001b[0m\u001b[0mslice_obj\u001b[0m\u001b[0;34m,\u001b[0m \u001b[0maxis\u001b[0m\u001b[0;34m)\u001b[0m\u001b[0;34m\u001b[0m\u001b[0m\n\u001b[0m\u001b[1;32m   1092\u001b[0m \u001b[0;34m\u001b[0m\u001b[0m\n\u001b[1;32m   1093\u001b[0m         \u001b[0;32mif\u001b[0m \u001b[0misinstance\u001b[0m\u001b[0;34m(\u001b[0m\u001b[0mindexer\u001b[0m\u001b[0;34m,\u001b[0m \u001b[0mslice\u001b[0m\u001b[0;34m)\u001b[0m\u001b[0;34m:\u001b[0m\u001b[0;34m\u001b[0m\u001b[0m\n",
        "\u001b[0;32m/Users/Craig_Sakuma/anaconda/lib/python2.7/site-packages/pandas/core/indexing.pyc\u001b[0m in \u001b[0;36m_convert_slice_indexer\u001b[0;34m(self, key, axis)\u001b[0m\n\u001b[1;32m    160\u001b[0m         \u001b[0;31m# if we are accessing via lowered dim, use the last dim\u001b[0m\u001b[0;34m\u001b[0m\u001b[0;34m\u001b[0m\u001b[0m\n\u001b[1;32m    161\u001b[0m         \u001b[0max\u001b[0m \u001b[0;34m=\u001b[0m \u001b[0mself\u001b[0m\u001b[0;34m.\u001b[0m\u001b[0mobj\u001b[0m\u001b[0;34m.\u001b[0m\u001b[0m_get_axis\u001b[0m\u001b[0;34m(\u001b[0m\u001b[0mmin\u001b[0m\u001b[0;34m(\u001b[0m\u001b[0maxis\u001b[0m\u001b[0;34m,\u001b[0m \u001b[0mself\u001b[0m\u001b[0;34m.\u001b[0m\u001b[0mndim\u001b[0m \u001b[0;34m-\u001b[0m \u001b[0;36m1\u001b[0m\u001b[0;34m)\u001b[0m\u001b[0;34m)\u001b[0m\u001b[0;34m\u001b[0m\u001b[0m\n\u001b[0;32m--> 162\u001b[0;31m         \u001b[0;32mreturn\u001b[0m \u001b[0max\u001b[0m\u001b[0;34m.\u001b[0m\u001b[0m_convert_slice_indexer\u001b[0m\u001b[0;34m(\u001b[0m\u001b[0mkey\u001b[0m\u001b[0;34m,\u001b[0m \u001b[0mtyp\u001b[0m\u001b[0;34m=\u001b[0m\u001b[0mself\u001b[0m\u001b[0;34m.\u001b[0m\u001b[0mname\u001b[0m\u001b[0;34m)\u001b[0m\u001b[0;34m\u001b[0m\u001b[0m\n\u001b[0m\u001b[1;32m    163\u001b[0m \u001b[0;34m\u001b[0m\u001b[0m\n\u001b[1;32m    164\u001b[0m     \u001b[0;32mdef\u001b[0m \u001b[0m_has_valid_setitem_indexer\u001b[0m\u001b[0;34m(\u001b[0m\u001b[0mself\u001b[0m\u001b[0;34m,\u001b[0m \u001b[0mindexer\u001b[0m\u001b[0;34m)\u001b[0m\u001b[0;34m:\u001b[0m\u001b[0;34m\u001b[0m\u001b[0m\n",
        "\u001b[0;32m/Users/Craig_Sakuma/anaconda/lib/python2.7/site-packages/pandas/core/index.pyc\u001b[0m in \u001b[0;36m_convert_slice_indexer\u001b[0;34m(self, key, typ)\u001b[0m\n\u001b[1;32m    582\u001b[0m         \u001b[0;32melse\u001b[0m\u001b[0;34m:\u001b[0m\u001b[0;34m\u001b[0m\u001b[0m\n\u001b[1;32m    583\u001b[0m             \u001b[0;32mtry\u001b[0m\u001b[0;34m:\u001b[0m\u001b[0;34m\u001b[0m\u001b[0m\n\u001b[0;32m--> 584\u001b[0;31m                 \u001b[0mindexer\u001b[0m \u001b[0;34m=\u001b[0m \u001b[0mself\u001b[0m\u001b[0;34m.\u001b[0m\u001b[0mslice_indexer\u001b[0m\u001b[0;34m(\u001b[0m\u001b[0mstart\u001b[0m\u001b[0;34m,\u001b[0m \u001b[0mstop\u001b[0m\u001b[0;34m,\u001b[0m \u001b[0mstep\u001b[0m\u001b[0;34m)\u001b[0m\u001b[0;34m\u001b[0m\u001b[0m\n\u001b[0m\u001b[1;32m    585\u001b[0m             \u001b[0;32mexcept\u001b[0m \u001b[0mException\u001b[0m\u001b[0;34m:\u001b[0m\u001b[0;34m\u001b[0m\u001b[0m\n\u001b[1;32m    586\u001b[0m                 \u001b[0;32mif\u001b[0m \u001b[0mis_index_slice\u001b[0m\u001b[0;34m:\u001b[0m\u001b[0;34m\u001b[0m\u001b[0m\n",
        "\u001b[0;32m/Users/Craig_Sakuma/anaconda/lib/python2.7/site-packages/pandas/core/index.pyc\u001b[0m in \u001b[0;36mslice_indexer\u001b[0;34m(self, start, end, step)\u001b[0m\n\u001b[1;32m   1679\u001b[0m         \u001b[0mThis\u001b[0m \u001b[0mfunction\u001b[0m \u001b[0massumes\u001b[0m \u001b[0mthat\u001b[0m \u001b[0mthe\u001b[0m \u001b[0mdata\u001b[0m \u001b[0;32mis\u001b[0m \u001b[0msorted\u001b[0m\u001b[0;34m,\u001b[0m \u001b[0mso\u001b[0m \u001b[0muse\u001b[0m \u001b[0mat\u001b[0m \u001b[0myour\u001b[0m \u001b[0mown\u001b[0m \u001b[0mperil\u001b[0m\u001b[0;34m\u001b[0m\u001b[0m\n\u001b[1;32m   1680\u001b[0m         \"\"\"\n\u001b[0;32m-> 1681\u001b[0;31m         \u001b[0mstart_slice\u001b[0m\u001b[0;34m,\u001b[0m \u001b[0mend_slice\u001b[0m \u001b[0;34m=\u001b[0m \u001b[0mself\u001b[0m\u001b[0;34m.\u001b[0m\u001b[0mslice_locs\u001b[0m\u001b[0;34m(\u001b[0m\u001b[0mstart\u001b[0m\u001b[0;34m,\u001b[0m \u001b[0mend\u001b[0m\u001b[0;34m)\u001b[0m\u001b[0;34m\u001b[0m\u001b[0m\n\u001b[0m\u001b[1;32m   1682\u001b[0m \u001b[0;34m\u001b[0m\u001b[0m\n\u001b[1;32m   1683\u001b[0m         \u001b[0;31m# return a slice\u001b[0m\u001b[0;34m\u001b[0m\u001b[0;34m\u001b[0m\u001b[0m\n",
        "\u001b[0;32m/Users/Craig_Sakuma/anaconda/lib/python2.7/site-packages/pandas/core/index.pyc\u001b[0m in \u001b[0;36mslice_locs\u001b[0;34m(self, start, end)\u001b[0m\n\u001b[1;32m   1725\u001b[0m                     \u001b[0;31m# if we are not monotonic\u001b[0m\u001b[0;34m\u001b[0m\u001b[0;34m\u001b[0m\u001b[0m\n\u001b[1;32m   1726\u001b[0m                     \u001b[0;32mif\u001b[0m \u001b[0misinstance\u001b[0m\u001b[0;34m(\u001b[0m\u001b[0mstart_slice\u001b[0m\u001b[0;34m,\u001b[0m \u001b[0;34m(\u001b[0m\u001b[0mABCSeries\u001b[0m\u001b[0;34m,\u001b[0m \u001b[0mnp\u001b[0m\u001b[0;34m.\u001b[0m\u001b[0mndarray\u001b[0m\u001b[0;34m)\u001b[0m\u001b[0;34m)\u001b[0m\u001b[0;34m:\u001b[0m\u001b[0;34m\u001b[0m\u001b[0m\n\u001b[0;32m-> 1727\u001b[0;31m                         raise KeyError(\"cannot peform a slice operation \"\n\u001b[0m\u001b[1;32m   1728\u001b[0m                                        \"on a non-unique non-monotonic index\")\n\u001b[1;32m   1729\u001b[0m \u001b[0;34m\u001b[0m\u001b[0m\n",
        "\u001b[0;31mKeyError\u001b[0m: 'cannot peform a slice operation on a non-unique non-monotonic index'"
       ]
      }
     ],
     "prompt_number": 216
    },
    {
     "cell_type": "code",
     "collapsed": false,
     "input": [
      "all_movies.reset_index(drop=True,inplace=True)"
     ],
     "language": "python",
     "metadata": {},
     "outputs": [],
     "prompt_number": 219
    },
    {
     "cell_type": "code",
     "collapsed": false,
     "input": [
      "all_movies.ix[0:5]"
     ],
     "language": "python",
     "metadata": {},
     "outputs": [
      {
       "html": [
        "<div style=\"max-height:1000px;max-width:1500px;overflow:auto;\">\n",
        "<table border=\"1\" class=\"dataframe\">\n",
        "  <thead>\n",
        "    <tr style=\"text-align: right;\">\n",
        "      <th></th>\n",
        "      <th>movie</th>\n",
        "      <th>rating</th>\n",
        "      <th>sales</th>\n",
        "    </tr>\n",
        "  </thead>\n",
        "  <tbody>\n",
        "    <tr>\n",
        "      <th>0</th>\n",
        "      <td>                   Home Alone</td>\n",
        "      <td> 7.4</td>\n",
        "      <td> $286M</td>\n",
        "    </tr>\n",
        "    <tr>\n",
        "      <th>1</th>\n",
        "      <td>                        Ghost</td>\n",
        "      <td> 7.0</td>\n",
        "      <td> $218M</td>\n",
        "    </tr>\n",
        "    <tr>\n",
        "      <th>2</th>\n",
        "      <td>           Dances with Wolves</td>\n",
        "      <td> 8.0</td>\n",
        "      <td> $184M</td>\n",
        "    </tr>\n",
        "    <tr>\n",
        "      <th>3</th>\n",
        "      <td>                 Pretty Woman</td>\n",
        "      <td> 6.9</td>\n",
        "      <td> $178M</td>\n",
        "    </tr>\n",
        "    <tr>\n",
        "      <th>4</th>\n",
        "      <td> Teenage Mutant Ninja Turtles</td>\n",
        "      <td> 6.7</td>\n",
        "      <td> $135M</td>\n",
        "    </tr>\n",
        "    <tr>\n",
        "      <th>5</th>\n",
        "      <td>     The Hunt for Red October</td>\n",
        "      <td> 7.6</td>\n",
        "      <td> $122M</td>\n",
        "    </tr>\n",
        "  </tbody>\n",
        "</table>\n",
        "</div>"
       ],
       "metadata": {},
       "output_type": "pyout",
       "prompt_number": 220,
       "text": [
        "                          movie rating  sales\n",
        "0                    Home Alone    7.4  $286M\n",
        "1                         Ghost    7.0  $218M\n",
        "2            Dances with Wolves    8.0  $184M\n",
        "3                  Pretty Woman    6.9  $178M\n",
        "4  Teenage Mutant Ninja Turtles    6.7  $135M\n",
        "5      The Hunt for Red October    7.6  $122M"
       ]
      }
     ],
     "prompt_number": 220
    },
    {
     "cell_type": "code",
     "collapsed": false,
     "input": [],
     "language": "python",
     "metadata": {},
     "outputs": []
    }
   ],
   "metadata": {}
  }
 ]
}