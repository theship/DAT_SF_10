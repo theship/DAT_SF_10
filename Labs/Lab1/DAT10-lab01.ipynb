{
 "metadata": {
  "name": "",
  "signature": "sha256:f84891a50b2d6ca5a31846ff1a6e1709646dd7e4984fb4833bec8e56e7dc3194"
 },
 "nbformat": 3,
 "nbformat_minor": 0,
 "worksheets": [
  {
   "cells": [
    {
     "cell_type": "markdown",
     "metadata": {},
     "source": [
      "### GA Data Science 10 (DAT10) - Lab1  "
     ]
    },
    {
     "cell_type": "markdown",
     "metadata": {},
     "source": [
      "### iPython Notebook Magic\n",
      "\n",
      "#### Short cut keys:"
     ]
    },
    {
     "cell_type": "markdown",
     "metadata": {},
     "source": [
      "comment out a line of code = command + /"
     ]
    },
    {
     "cell_type": "markdown",
     "metadata": {},
     "source": [
      "run block of code = shift + enter"
     ]
    },
    {
     "cell_type": "markdown",
     "metadata": {},
     "source": [
      "autocomplete text = tab"
     ]
    },
    {
     "cell_type": "markdown",
     "metadata": {},
     "source": [
      "help for function = shift + tab"
     ]
    },
    {
     "cell_type": "markdown",
     "metadata": {},
     "source": [
      "Web based viewer for ipython notebooks\n",
      "http://nbviewer.ipython.org/"
     ]
    },
    {
     "cell_type": "code",
     "collapsed": false,
     "input": [
      "# print \"Hello World\"\n",
      "list\n"
     ],
     "language": "python",
     "metadata": {},
     "outputs": [],
     "prompt_number": 19
    },
    {
     "cell_type": "markdown",
     "metadata": {},
     "source": [
      "### Basic python data types:\n",
      "\n",
      "There are four numeric types: ***int, float, bool***, and ***complex***."
     ]
    },
    {
     "cell_type": "code",
     "collapsed": false,
     "input": [
      "type(1)"
     ],
     "language": "python",
     "metadata": {},
     "outputs": [
      {
       "metadata": {},
       "output_type": "pyout",
       "prompt_number": 1,
       "text": [
        "int"
       ]
      }
     ],
     "prompt_number": 1
    },
    {
     "cell_type": "code",
     "collapsed": false,
     "input": [
      "type(2.5)"
     ],
     "language": "python",
     "metadata": {},
     "outputs": [
      {
       "metadata": {},
       "output_type": "pyout",
       "prompt_number": 2,
       "text": [
        "float"
       ]
      }
     ],
     "prompt_number": 2
    },
    {
     "cell_type": "code",
     "collapsed": false,
     "input": [
      "type(True)"
     ],
     "language": "python",
     "metadata": {},
     "outputs": [
      {
       "metadata": {},
       "output_type": "pyout",
       "prompt_number": 3,
       "text": [
        "bool"
       ]
      }
     ],
     "prompt_number": 3
    },
    {
     "cell_type": "code",
     "collapsed": false,
     "input": [
      "type(2+3j)"
     ],
     "language": "python",
     "metadata": {},
     "outputs": [
      {
       "metadata": {},
       "output_type": "pyout",
       "prompt_number": 4,
       "text": [
        "complex"
       ]
      }
     ],
     "prompt_number": 4
    },
    {
     "cell_type": "markdown",
     "metadata": {},
     "source": [
      "Basic math with basic types - pretty obvious, except watch for integer division!"
     ]
    },
    {
     "cell_type": "code",
     "collapsed": false,
     "input": [
      "5 + 5"
     ],
     "language": "python",
     "metadata": {},
     "outputs": [
      {
       "metadata": {},
       "output_type": "pyout",
       "prompt_number": 20,
       "text": [
        "10"
       ]
      }
     ],
     "prompt_number": 20
    },
    {
     "cell_type": "code",
     "collapsed": false,
     "input": [
      "3 * 7"
     ],
     "language": "python",
     "metadata": {},
     "outputs": [
      {
       "metadata": {},
       "output_type": "pyout",
       "prompt_number": 21,
       "text": [
        "21"
       ]
      }
     ],
     "prompt_number": 21
    },
    {
     "cell_type": "code",
     "collapsed": false,
     "input": [
      "x = 10\n",
      "y = 5\n",
      "z = 4"
     ],
     "language": "python",
     "metadata": {},
     "outputs": [],
     "prompt_number": 22
    },
    {
     "cell_type": "code",
     "collapsed": false,
     "input": [
      "x - y"
     ],
     "language": "python",
     "metadata": {},
     "outputs": [
      {
       "metadata": {},
       "output_type": "pyout",
       "prompt_number": 23,
       "text": [
        "5"
       ]
      }
     ],
     "prompt_number": 23
    },
    {
     "cell_type": "code",
     "collapsed": false,
     "input": [
      "x / y"
     ],
     "language": "python",
     "metadata": {},
     "outputs": [
      {
       "metadata": {},
       "output_type": "pyout",
       "prompt_number": 24,
       "text": [
        "2"
       ]
      }
     ],
     "prompt_number": 24
    },
    {
     "cell_type": "code",
     "collapsed": false,
     "input": [
      "x / z  # gives just the integer!"
     ],
     "language": "python",
     "metadata": {},
     "outputs": [
      {
       "metadata": {},
       "output_type": "pyout",
       "prompt_number": 25,
       "text": [
        "2"
       ]
      }
     ],
     "prompt_number": 25
    },
    {
     "cell_type": "code",
     "collapsed": false,
     "input": [
      "x / 4.0  # converts to float division if one operand is a float"
     ],
     "language": "python",
     "metadata": {},
     "outputs": [
      {
       "metadata": {},
       "output_type": "pyout",
       "prompt_number": 26,
       "text": [
        "2.5"
       ]
      }
     ],
     "prompt_number": 26
    },
    {
     "cell_type": "code",
     "collapsed": false,
     "input": [
      "x / float(z)  # equivalent - use float to 'cast' z to a float"
     ],
     "language": "python",
     "metadata": {},
     "outputs": [
      {
       "metadata": {},
       "output_type": "pyout",
       "prompt_number": 27,
       "text": [
        "2.5"
       ]
      }
     ],
     "prompt_number": 27
    },
    {
     "cell_type": "code",
     "collapsed": false,
     "input": [
      "10 % 4  # modulo  operator(i.e. remainder)"
     ],
     "language": "python",
     "metadata": {},
     "outputs": [
      {
       "metadata": {},
       "output_type": "pyout",
       "prompt_number": 28,
       "text": [
        "2"
       ]
      }
     ],
     "prompt_number": 28
    },
    {
     "cell_type": "markdown",
     "metadata": {},
     "source": [
      "#### Python lists  \n",
      "\n",
      "The next basic data type is the Python ***list***.  A list is an ***ordered collection of elements***, and these elements can be of arbitrary type. Lists are ***mutable***, meaning they can be changed in-place.  In python lists are indicated by square brackets **`[`** and **`]`**.  Items in a list are indexed starting with 0."
     ]
    },
    {
     "cell_type": "code",
     "collapsed": false,
     "input": [
      "k = [1, 'b', True]"
     ],
     "language": "python",
     "metadata": {},
     "outputs": [],
     "prompt_number": 29
    },
    {
     "cell_type": "code",
     "collapsed": false,
     "input": [
      "k[2]"
     ],
     "language": "python",
     "metadata": {},
     "outputs": [
      {
       "metadata": {},
       "output_type": "pyout",
       "prompt_number": 30,
       "text": [
        "True"
       ]
      }
     ],
     "prompt_number": 30
    },
    {
     "cell_type": "code",
     "collapsed": false,
     "input": [
      "k[1] = 'a'"
     ],
     "language": "python",
     "metadata": {},
     "outputs": [],
     "prompt_number": 31
    },
    {
     "cell_type": "code",
     "collapsed": false,
     "input": [
      "k"
     ],
     "language": "python",
     "metadata": {},
     "outputs": [
      {
       "metadata": {},
       "output_type": "pyout",
       "prompt_number": 32,
       "text": [
        "[1, 'a', True]"
       ]
      }
     ],
     "prompt_number": 32
    },
    {
     "cell_type": "markdown",
     "metadata": {},
     "source": [
      "You can even have lists of lists:"
     ]
    },
    {
     "cell_type": "code",
     "collapsed": false,
     "input": [
      "a = [[1,2,3], 4, 5]"
     ],
     "language": "python",
     "metadata": {},
     "outputs": [],
     "prompt_number": 33
    },
    {
     "cell_type": "code",
     "collapsed": false,
     "input": [
      "a[0]"
     ],
     "language": "python",
     "metadata": {},
     "outputs": [
      {
       "metadata": {},
       "output_type": "pyout",
       "prompt_number": 34,
       "text": [
        "[1, 2, 3]"
       ]
      }
     ],
     "prompt_number": 34
    },
    {
     "cell_type": "code",
     "collapsed": false,
     "input": [
      "a[1]"
     ],
     "language": "python",
     "metadata": {},
     "outputs": [
      {
       "metadata": {},
       "output_type": "pyout",
       "prompt_number": 35,
       "text": [
        "4"
       ]
      }
     ],
     "prompt_number": 35
    },
    {
     "cell_type": "markdown",
     "metadata": {},
     "source": [
      "### Python tuples\n",
      "Tuples are similar to lists, except that they are ***immutable***, meaning that they cannot be changed in place.  Tuples are indicated by parenthesis **`(`** and **`)`**."
     ]
    },
    {
     "cell_type": "code",
     "collapsed": false,
     "input": [
      "x = (1, 'a', 2.5)"
     ],
     "language": "python",
     "metadata": {},
     "outputs": [],
     "prompt_number": 38
    },
    {
     "cell_type": "code",
     "collapsed": false,
     "input": [
      "x"
     ],
     "language": "python",
     "metadata": {},
     "outputs": [
      {
       "metadata": {},
       "output_type": "pyout",
       "prompt_number": 39,
       "text": [
        "(1, 'a', 2.5)"
       ]
      }
     ],
     "prompt_number": 39
    },
    {
     "cell_type": "code",
     "collapsed": false,
     "input": [
      "(1,)"
     ],
     "language": "python",
     "metadata": {},
     "outputs": [
      {
       "metadata": {},
       "output_type": "pyout",
       "prompt_number": 40,
       "text": [
        "(1,)"
       ]
      }
     ],
     "prompt_number": 40
    },
    {
     "cell_type": "code",
     "collapsed": false,
     "input": [
      "x[0]"
     ],
     "language": "python",
     "metadata": {},
     "outputs": [
      {
       "metadata": {},
       "output_type": "pyout",
       "prompt_number": 41,
       "text": [
        "1"
       ]
      }
     ],
     "prompt_number": 41
    },
    {
     "cell_type": "code",
     "collapsed": false,
     "input": [
      "x[0] = 'b'"
     ],
     "language": "python",
     "metadata": {},
     "outputs": [
      {
       "ename": "TypeError",
       "evalue": "'tuple' object does not support item assignment",
       "output_type": "pyerr",
       "traceback": [
        "\u001b[0;31m---------------------------------------------------------------------------\u001b[0m\n\u001b[0;31mTypeError\u001b[0m                                 Traceback (most recent call last)",
        "\u001b[0;32m<ipython-input-42-1d938b100406>\u001b[0m in \u001b[0;36m<module>\u001b[0;34m()\u001b[0m\n\u001b[0;32m----> 1\u001b[0;31m \u001b[0mx\u001b[0m\u001b[0;34m[\u001b[0m\u001b[0;36m0\u001b[0m\u001b[0;34m]\u001b[0m \u001b[0;34m=\u001b[0m \u001b[0;34m'b'\u001b[0m\u001b[0;34m\u001b[0m\u001b[0m\n\u001b[0m",
        "\u001b[0;31mTypeError\u001b[0m: 'tuple' object does not support item assignment"
       ]
      }
     ],
     "prompt_number": 42
    },
    {
     "cell_type": "markdown",
     "metadata": {},
     "source": [
      "#### Python sets\n",
      "\n",
      "A python set is an unordered mutable collection of distinct elements - i.e. a list with duplicates removed."
     ]
    },
    {
     "cell_type": "code",
     "collapsed": false,
     "input": [
      "y = set([1, 1, 2, 3, 5, 8])"
     ],
     "language": "python",
     "metadata": {},
     "outputs": [],
     "prompt_number": 43
    },
    {
     "cell_type": "code",
     "collapsed": false,
     "input": [
      "y"
     ],
     "language": "python",
     "metadata": {},
     "outputs": [
      {
       "metadata": {},
       "output_type": "pyout",
       "prompt_number": 44,
       "text": [
        "{1, 2, 3, 5, 8}"
       ]
      }
     ],
     "prompt_number": 44
    },
    {
     "cell_type": "markdown",
     "metadata": {},
     "source": [
      "A set can be used as a quick method to removed duplicate elements from a list:"
     ]
    },
    {
     "cell_type": "code",
     "collapsed": false,
     "input": [
      "a = [1, 3, 4, 5, 5, 5, 7, 8, 8, 9]"
     ],
     "language": "python",
     "metadata": {},
     "outputs": [],
     "prompt_number": 45
    },
    {
     "cell_type": "code",
     "collapsed": false,
     "input": [
      "list(set(a))"
     ],
     "language": "python",
     "metadata": {},
     "outputs": [
      {
       "metadata": {},
       "output_type": "pyout",
       "prompt_number": 46,
       "text": [
        "[1, 3, 4, 5, 7, 8, 9]"
       ]
      }
     ],
     "prompt_number": 46
    },
    {
     "cell_type": "markdown",
     "metadata": {},
     "source": [
      "#### Python dictionaries (i.e. associative arrays)\n",
      "\n",
      "Dictionaries are ***unordered*** collections of ***key-value pairs***.  Dictionaries can use various types for keys (e.g. strings, ints) so long as the key is immutable.  Values are looked up by key.  In python dictionaries are indicated by ***curly braces { }***"
     ]
    },
    {
     "cell_type": "code",
     "collapsed": false,
     "input": [
      "info = {'name': 'Bob', 'age': 54, 'kids': ['Henry', 'Phil']}"
     ],
     "language": "python",
     "metadata": {},
     "outputs": [],
     "prompt_number": 47
    },
    {
     "cell_type": "code",
     "collapsed": false,
     "input": [
      "info['name']"
     ],
     "language": "python",
     "metadata": {},
     "outputs": [
      {
       "metadata": {},
       "output_type": "pyout",
       "prompt_number": 48,
       "text": [
        "'Bob'"
       ]
      }
     ],
     "prompt_number": 48
    },
    {
     "cell_type": "code",
     "collapsed": false,
     "input": [
      "info['age'] = 55"
     ],
     "language": "python",
     "metadata": {},
     "outputs": [],
     "prompt_number": 49
    },
    {
     "cell_type": "code",
     "collapsed": false,
     "input": [
      "info['age']"
     ],
     "language": "python",
     "metadata": {},
     "outputs": [
      {
       "metadata": {},
       "output_type": "pyout",
       "prompt_number": 50,
       "text": [
        "55"
       ]
      }
     ],
     "prompt_number": 50
    },
    {
     "cell_type": "code",
     "collapsed": false,
     "input": [
      "num_kids = len(info['kids'])"
     ],
     "language": "python",
     "metadata": {},
     "outputs": [],
     "prompt_number": 51
    },
    {
     "cell_type": "code",
     "collapsed": false,
     "input": [
      "num_kids"
     ],
     "language": "python",
     "metadata": {},
     "outputs": [
      {
       "metadata": {},
       "output_type": "pyout",
       "prompt_number": 52,
       "text": [
        "2"
       ]
      }
     ],
     "prompt_number": 52
    },
    {
     "cell_type": "markdown",
     "metadata": {},
     "source": [
      "Some additional references:\n",
      "\n",
      "http://python.org/documentation/  \n",
      "http://www.greenteapress.com/thinkpython/thinkpython.pdf  \n",
      "http://nbviewer.ipython.org/url/www.astro.washington.edu/users/vanderplas/Astr599/notebooks/01_basic_training.ipynb  \n",
      "http://nbviewer.ipython.org/url/www.astro.washington.edu/users/vanderplas/Astr599/notebooks/02_advanced_data_structures.ipynb"
     ]
    },
    {
     "cell_type": "markdown",
     "metadata": {},
     "source": [
      "### Python packages (brief intro)"
     ]
    },
    {
     "cell_type": "markdown",
     "metadata": {},
     "source": [
      "Python has an extensive collection of third-party libraries, or ***packages***, with additional functions, data-structures, etc.  Many (most?) packages of interest are hosted on the Python Package Index ***pypi***, and can be installed into your environment using ***pip***.  The Anaconda distribution in the pre-work includes a number of these that are useful in data science, so you should have most of them installed already.  \n",
      "\n",
      "ref:  https://pypi.python.org/pypi"
     ]
    },
    {
     "cell_type": "markdown",
     "metadata": {},
     "source": [
      "To start, let's import a python package called numpy."
     ]
    },
    {
     "cell_type": "code",
     "collapsed": false,
     "input": [
      "import numpy as np"
     ],
     "language": "python",
     "metadata": {},
     "outputs": [],
     "prompt_number": 53
    },
    {
     "cell_type": "markdown",
     "metadata": {},
     "source": [
      "A note on namespaces when importing - there are a few different ways to import:\n",
      "\n",
      "    1. import numpy\n",
      "\n",
      "    - all submodules of numpy are accessible in the numpy namespace\n",
      "    - e.g. numpy.array([1,2,3])\n",
      "\n",
      "\n",
      "    2. import numpy as np\n",
      "\n",
      "    - same as 1 except an alias 'np' is created for the namespace instead\n",
      "    - e.g. np.array([1,2,3])\n",
      "\n",
      "\n",
      "    3. from numpy import *\n",
      "\n",
      "    - adds all submodules to global namespace\n",
      "    - e.g. array([1,2,3])\n",
      "    - Note: This can be dangerous because if different modules have submodules with the same name than whatever is imported last will overrite what came before it - i.e. naming collision -> overwriting!.\n",
      "    \n",
      "    4. from numpy import array\n",
      "    \n",
      "    - will import only the indicated submodules into the global namespace\n",
      "    - e.g. array([1,2,3])\n",
      "    - Note: can be ok since you are being explicit\n",
      "    \n",
      "    We will generally use 2 and 4 (sparingly)."
     ]
    },
    {
     "cell_type": "markdown",
     "metadata": {},
     "source": [
      "What does this package contain?  Introspect with `dir` to find out which names a module defines:"
     ]
    },
    {
     "cell_type": "code",
     "collapsed": false,
     "input": [
      "dir(np)"
     ],
     "language": "python",
     "metadata": {},
     "outputs": [
      {
       "metadata": {},
       "output_type": "pyout",
       "prompt_number": 54,
       "text": [
        "['ALLOW_THREADS',\n",
        " 'BUFSIZE',\n",
        " 'CLIP',\n",
        " 'ComplexWarning',\n",
        " 'DataSource',\n",
        " 'ERR_CALL',\n",
        " 'ERR_DEFAULT',\n",
        " 'ERR_DEFAULT2',\n",
        " 'ERR_IGNORE',\n",
        " 'ERR_LOG',\n",
        " 'ERR_PRINT',\n",
        " 'ERR_RAISE',\n",
        " 'ERR_WARN',\n",
        " 'FLOATING_POINT_SUPPORT',\n",
        " 'FPE_DIVIDEBYZERO',\n",
        " 'FPE_INVALID',\n",
        " 'FPE_OVERFLOW',\n",
        " 'FPE_UNDERFLOW',\n",
        " 'False_',\n",
        " 'Inf',\n",
        " 'Infinity',\n",
        " 'MAXDIMS',\n",
        " 'MachAr',\n",
        " 'ModuleDeprecationWarning',\n",
        " 'NAN',\n",
        " 'NINF',\n",
        " 'NZERO',\n",
        " 'NaN',\n",
        " 'PINF',\n",
        " 'PZERO',\n",
        " 'PackageLoader',\n",
        " 'RAISE',\n",
        " 'RankWarning',\n",
        " 'SHIFT_DIVIDEBYZERO',\n",
        " 'SHIFT_INVALID',\n",
        " 'SHIFT_OVERFLOW',\n",
        " 'SHIFT_UNDERFLOW',\n",
        " 'ScalarType',\n",
        " 'Tester',\n",
        " 'True_',\n",
        " 'UFUNC_BUFSIZE_DEFAULT',\n",
        " 'UFUNC_PYVALS_NAME',\n",
        " 'WRAP',\n",
        " '__NUMPY_SETUP__',\n",
        " '__all__',\n",
        " '__builtins__',\n",
        " '__config__',\n",
        " '__doc__',\n",
        " '__file__',\n",
        " '__git_revision__',\n",
        " '__name__',\n",
        " '__package__',\n",
        " '__path__',\n",
        " '__version__',\n",
        " '_import_tools',\n",
        " '_mat',\n",
        " 'abs',\n",
        " 'absolute',\n",
        " 'absolute_import',\n",
        " 'add',\n",
        " 'add_docstring',\n",
        " 'add_newdoc',\n",
        " 'add_newdoc_ufunc',\n",
        " 'add_newdocs',\n",
        " 'alen',\n",
        " 'all',\n",
        " 'allclose',\n",
        " 'alltrue',\n",
        " 'alterdot',\n",
        " 'amax',\n",
        " 'amin',\n",
        " 'angle',\n",
        " 'any',\n",
        " 'append',\n",
        " 'apply_along_axis',\n",
        " 'apply_over_axes',\n",
        " 'arange',\n",
        " 'arccos',\n",
        " 'arccosh',\n",
        " 'arcsin',\n",
        " 'arcsinh',\n",
        " 'arctan',\n",
        " 'arctan2',\n",
        " 'arctanh',\n",
        " 'argmax',\n",
        " 'argmin',\n",
        " 'argpartition',\n",
        " 'argsort',\n",
        " 'argwhere',\n",
        " 'around',\n",
        " 'array',\n",
        " 'array2string',\n",
        " 'array_equal',\n",
        " 'array_equiv',\n",
        " 'array_repr',\n",
        " 'array_split',\n",
        " 'array_str',\n",
        " 'asanyarray',\n",
        " 'asarray',\n",
        " 'asarray_chkfinite',\n",
        " 'ascontiguousarray',\n",
        " 'asfarray',\n",
        " 'asfortranarray',\n",
        " 'asmatrix',\n",
        " 'asscalar',\n",
        " 'atleast_1d',\n",
        " 'atleast_2d',\n",
        " 'atleast_3d',\n",
        " 'average',\n",
        " 'bartlett',\n",
        " 'base_repr',\n",
        " 'bench',\n",
        " 'binary_repr',\n",
        " 'bincount',\n",
        " 'bitwise_and',\n",
        " 'bitwise_not',\n",
        " 'bitwise_or',\n",
        " 'bitwise_xor',\n",
        " 'blackman',\n",
        " 'bmat',\n",
        " 'bool',\n",
        " 'bool8',\n",
        " 'bool_',\n",
        " 'broadcast',\n",
        " 'broadcast_arrays',\n",
        " 'busday_count',\n",
        " 'busday_offset',\n",
        " 'busdaycalendar',\n",
        " 'byte',\n",
        " 'byte_bounds',\n",
        " 'bytes_',\n",
        " 'c_',\n",
        " 'can_cast',\n",
        " 'cast',\n",
        " 'cdouble',\n",
        " 'ceil',\n",
        " 'cfloat',\n",
        " 'char',\n",
        " 'character',\n",
        " 'chararray',\n",
        " 'choose',\n",
        " 'clip',\n",
        " 'clongdouble',\n",
        " 'clongfloat',\n",
        " 'column_stack',\n",
        " 'common_type',\n",
        " 'compare_chararrays',\n",
        " 'compat',\n",
        " 'complex',\n",
        " 'complex128',\n",
        " 'complex256',\n",
        " 'complex64',\n",
        " 'complex_',\n",
        " 'complexfloating',\n",
        " 'compress',\n",
        " 'concatenate',\n",
        " 'conj',\n",
        " 'conjugate',\n",
        " 'convolve',\n",
        " 'copy',\n",
        " 'copysign',\n",
        " 'copyto',\n",
        " 'core',\n",
        " 'corrcoef',\n",
        " 'correlate',\n",
        " 'cos',\n",
        " 'cosh',\n",
        " 'count_nonzero',\n",
        " 'cov',\n",
        " 'cross',\n",
        " 'csingle',\n",
        " 'ctypeslib',\n",
        " 'cumprod',\n",
        " 'cumproduct',\n",
        " 'cumsum',\n",
        " 'datetime64',\n",
        " 'datetime_as_string',\n",
        " 'datetime_data',\n",
        " 'deg2rad',\n",
        " 'degrees',\n",
        " 'delete',\n",
        " 'deprecate',\n",
        " 'deprecate_with_doc',\n",
        " 'diag',\n",
        " 'diag_indices',\n",
        " 'diag_indices_from',\n",
        " 'diagflat',\n",
        " 'diagonal',\n",
        " 'diff',\n",
        " 'digitize',\n",
        " 'disp',\n",
        " 'divide',\n",
        " 'division',\n",
        " 'dot',\n",
        " 'double',\n",
        " 'dsplit',\n",
        " 'dstack',\n",
        " 'dtype',\n",
        " 'e',\n",
        " 'ediff1d',\n",
        " 'einsum',\n",
        " 'emath',\n",
        " 'empty',\n",
        " 'empty_like',\n",
        " 'equal',\n",
        " 'errstate',\n",
        " 'euler_gamma',\n",
        " 'exp',\n",
        " 'exp2',\n",
        " 'expand_dims',\n",
        " 'expm1',\n",
        " 'extract',\n",
        " 'eye',\n",
        " 'fabs',\n",
        " 'fastCopyAndTranspose',\n",
        " 'fft',\n",
        " 'fill_diagonal',\n",
        " 'find_common_type',\n",
        " 'finfo',\n",
        " 'fix',\n",
        " 'flatiter',\n",
        " 'flatnonzero',\n",
        " 'flexible',\n",
        " 'fliplr',\n",
        " 'flipud',\n",
        " 'float',\n",
        " 'float128',\n",
        " 'float16',\n",
        " 'float32',\n",
        " 'float64',\n",
        " 'float_',\n",
        " 'floating',\n",
        " 'floor',\n",
        " 'floor_divide',\n",
        " 'fmax',\n",
        " 'fmin',\n",
        " 'fmod',\n",
        " 'format_parser',\n",
        " 'frexp',\n",
        " 'frombuffer',\n",
        " 'fromfile',\n",
        " 'fromfunction',\n",
        " 'fromiter',\n",
        " 'frompyfunc',\n",
        " 'fromregex',\n",
        " 'fromstring',\n",
        " 'full',\n",
        " 'full_like',\n",
        " 'fv',\n",
        " 'generic',\n",
        " 'genfromtxt',\n",
        " 'get_array_wrap',\n",
        " 'get_include',\n",
        " 'get_numarray_include',\n",
        " 'get_printoptions',\n",
        " 'getbuffer',\n",
        " 'getbufsize',\n",
        " 'geterr',\n",
        " 'geterrcall',\n",
        " 'geterrobj',\n",
        " 'gradient',\n",
        " 'greater',\n",
        " 'greater_equal',\n",
        " 'half',\n",
        " 'hamming',\n",
        " 'hanning',\n",
        " 'histogram',\n",
        " 'histogram2d',\n",
        " 'histogramdd',\n",
        " 'hsplit',\n",
        " 'hstack',\n",
        " 'hypot',\n",
        " 'i0',\n",
        " 'identity',\n",
        " 'iinfo',\n",
        " 'imag',\n",
        " 'in1d',\n",
        " 'index_exp',\n",
        " 'indices',\n",
        " 'inexact',\n",
        " 'inf',\n",
        " 'info',\n",
        " 'infty',\n",
        " 'inner',\n",
        " 'insert',\n",
        " 'int',\n",
        " 'int0',\n",
        " 'int16',\n",
        " 'int32',\n",
        " 'int64',\n",
        " 'int8',\n",
        " 'int_',\n",
        " 'int_asbuffer',\n",
        " 'intc',\n",
        " 'integer',\n",
        " 'interp',\n",
        " 'intersect1d',\n",
        " 'intp',\n",
        " 'invert',\n",
        " 'ipmt',\n",
        " 'irr',\n",
        " 'is_busday',\n",
        " 'isclose',\n",
        " 'iscomplex',\n",
        " 'iscomplexobj',\n",
        " 'isfinite',\n",
        " 'isfortran',\n",
        " 'isinf',\n",
        " 'isnan',\n",
        " 'isneginf',\n",
        " 'isposinf',\n",
        " 'isreal',\n",
        " 'isrealobj',\n",
        " 'isscalar',\n",
        " 'issctype',\n",
        " 'issubclass_',\n",
        " 'issubdtype',\n",
        " 'issubsctype',\n",
        " 'iterable',\n",
        " 'ix_',\n",
        " 'kaiser',\n",
        " 'kron',\n",
        " 'ldexp',\n",
        " 'left_shift',\n",
        " 'less',\n",
        " 'less_equal',\n",
        " 'lexsort',\n",
        " 'lib',\n",
        " 'linalg',\n",
        " 'linspace',\n",
        " 'little_endian',\n",
        " 'load',\n",
        " 'loads',\n",
        " 'loadtxt',\n",
        " 'log',\n",
        " 'log10',\n",
        " 'log1p',\n",
        " 'log2',\n",
        " 'logaddexp',\n",
        " 'logaddexp2',\n",
        " 'logical_and',\n",
        " 'logical_not',\n",
        " 'logical_or',\n",
        " 'logical_xor',\n",
        " 'logspace',\n",
        " 'long',\n",
        " 'longcomplex',\n",
        " 'longdouble',\n",
        " 'longfloat',\n",
        " 'longlong',\n",
        " 'lookfor',\n",
        " 'ma',\n",
        " 'mafromtxt',\n",
        " 'mask_indices',\n",
        " 'mat',\n",
        " 'math',\n",
        " 'matrix',\n",
        " 'matrixlib',\n",
        " 'max',\n",
        " 'maximum',\n",
        " 'maximum_sctype',\n",
        " 'may_share_memory',\n",
        " 'mean',\n",
        " 'median',\n",
        " 'memmap',\n",
        " 'meshgrid',\n",
        " 'mgrid',\n",
        " 'min',\n",
        " 'min_scalar_type',\n",
        " 'minimum',\n",
        " 'mintypecode',\n",
        " 'mirr',\n",
        " 'mod',\n",
        " 'modf',\n",
        " 'msort',\n",
        " 'multiply',\n",
        " 'nan',\n",
        " 'nan_to_num',\n",
        " 'nanargmax',\n",
        " 'nanargmin',\n",
        " 'nanmax',\n",
        " 'nanmean',\n",
        " 'nanmin',\n",
        " 'nanstd',\n",
        " 'nansum',\n",
        " 'nanvar',\n",
        " 'nbytes',\n",
        " 'ndarray',\n",
        " 'ndenumerate',\n",
        " 'ndfromtxt',\n",
        " 'ndim',\n",
        " 'ndindex',\n",
        " 'nditer',\n",
        " 'negative',\n",
        " 'nested_iters',\n",
        " 'newaxis',\n",
        " 'newbuffer',\n",
        " 'nextafter',\n",
        " 'nonzero',\n",
        " 'not_equal',\n",
        " 'nper',\n",
        " 'npv',\n",
        " 'number',\n",
        " 'obj2sctype',\n",
        " 'object',\n",
        " 'object0',\n",
        " 'object_',\n",
        " 'ogrid',\n",
        " 'ones',\n",
        " 'ones_like',\n",
        " 'outer',\n",
        " 'packbits',\n",
        " 'pad',\n",
        " 'partition',\n",
        " 'percentile',\n",
        " 'pi',\n",
        " 'piecewise',\n",
        " 'pkgload',\n",
        " 'place',\n",
        " 'pmt',\n",
        " 'poly',\n",
        " 'poly1d',\n",
        " 'polyadd',\n",
        " 'polyder',\n",
        " 'polydiv',\n",
        " 'polyfit',\n",
        " 'polyint',\n",
        " 'polymul',\n",
        " 'polynomial',\n",
        " 'polysub',\n",
        " 'polyval',\n",
        " 'power',\n",
        " 'ppmt',\n",
        " 'print_function',\n",
        " 'prod',\n",
        " 'product',\n",
        " 'promote_types',\n",
        " 'ptp',\n",
        " 'put',\n",
        " 'putmask',\n",
        " 'pv',\n",
        " 'r_',\n",
        " 'rad2deg',\n",
        " 'radians',\n",
        " 'random',\n",
        " 'rank',\n",
        " 'rate',\n",
        " 'ravel',\n",
        " 'ravel_multi_index',\n",
        " 'real',\n",
        " 'real_if_close',\n",
        " 'rec',\n",
        " 'recarray',\n",
        " 'recfromcsv',\n",
        " 'recfromtxt',\n",
        " 'reciprocal',\n",
        " 'record',\n",
        " 'remainder',\n",
        " 'repeat',\n",
        " 'require',\n",
        " 'reshape',\n",
        " 'resize',\n",
        " 'restoredot',\n",
        " 'result_type',\n",
        " 'right_shift',\n",
        " 'rint',\n",
        " 'roll',\n",
        " 'rollaxis',\n",
        " 'roots',\n",
        " 'rot90',\n",
        " 'round',\n",
        " 'round_',\n",
        " 'row_stack',\n",
        " 's_',\n",
        " 'safe_eval',\n",
        " 'save',\n",
        " 'savetxt',\n",
        " 'savez',\n",
        " 'savez_compressed',\n",
        " 'sctype2char',\n",
        " 'sctypeDict',\n",
        " 'sctypeNA',\n",
        " 'sctypes',\n",
        " 'searchsorted',\n",
        " 'select',\n",
        " 'set_numeric_ops',\n",
        " 'set_printoptions',\n",
        " 'set_string_function',\n",
        " 'setbufsize',\n",
        " 'setdiff1d',\n",
        " 'seterr',\n",
        " 'seterrcall',\n",
        " 'seterrobj',\n",
        " 'setxor1d',\n",
        " 'shape',\n",
        " 'short',\n",
        " 'show_config',\n",
        " 'sign',\n",
        " 'signbit',\n",
        " 'signedinteger',\n",
        " 'sin',\n",
        " 'sinc',\n",
        " 'single',\n",
        " 'singlecomplex',\n",
        " 'sinh',\n",
        " 'size',\n",
        " 'sometrue',\n",
        " 'sort',\n",
        " 'sort_complex',\n",
        " 'source',\n",
        " 'spacing',\n",
        " 'split',\n",
        " 'sqrt',\n",
        " 'square',\n",
        " 'squeeze',\n",
        " 'std',\n",
        " 'str',\n",
        " 'str_',\n",
        " 'string0',\n",
        " 'string_',\n",
        " 'subtract',\n",
        " 'sum',\n",
        " 'swapaxes',\n",
        " 'sys',\n",
        " 'take',\n",
        " 'tan',\n",
        " 'tanh',\n",
        " 'tensordot',\n",
        " 'test',\n",
        " 'testing',\n",
        " 'tile',\n",
        " 'timedelta64',\n",
        " 'trace',\n",
        " 'transpose',\n",
        " 'trapz',\n",
        " 'tri',\n",
        " 'tril',\n",
        " 'tril_indices',\n",
        " 'tril_indices_from',\n",
        " 'trim_zeros',\n",
        " 'triu',\n",
        " 'triu_indices',\n",
        " 'triu_indices_from',\n",
        " 'true_divide',\n",
        " 'trunc',\n",
        " 'typeDict',\n",
        " 'typeNA',\n",
        " 'typecodes',\n",
        " 'typename',\n",
        " 'ubyte',\n",
        " 'ufunc',\n",
        " 'uint',\n",
        " 'uint0',\n",
        " 'uint16',\n",
        " 'uint32',\n",
        " 'uint64',\n",
        " 'uint8',\n",
        " 'uintc',\n",
        " 'uintp',\n",
        " 'ulonglong',\n",
        " 'unicode',\n",
        " 'unicode0',\n",
        " 'unicode_',\n",
        " 'union1d',\n",
        " 'unique',\n",
        " 'unpackbits',\n",
        " 'unravel_index',\n",
        " 'unsignedinteger',\n",
        " 'unwrap',\n",
        " 'ushort',\n",
        " 'vander',\n",
        " 'var',\n",
        " 'vdot',\n",
        " 'vectorize',\n",
        " 'version',\n",
        " 'void',\n",
        " 'void0',\n",
        " 'vsplit',\n",
        " 'vstack',\n",
        " 'warnings',\n",
        " 'where',\n",
        " 'who',\n",
        " 'zeros',\n",
        " 'zeros_like']"
       ]
      }
     ],
     "prompt_number": 54
    },
    {
     "cell_type": "markdown",
     "metadata": {},
     "source": [
      "For detailed info about a particular name, use the ***help*** command:"
     ]
    },
    {
     "cell_type": "code",
     "collapsed": false,
     "input": [
      "help(np.array)"
     ],
     "language": "python",
     "metadata": {},
     "outputs": [
      {
       "output_type": "stream",
       "stream": "stdout",
       "text": [
        "Help on built-in function array in module numpy.core.multiarray:\n",
        "\n",
        "array(...)\n",
        "    array(object, dtype=None, copy=True, order=None, subok=False, ndmin=0)\n",
        "    \n",
        "    Create an array.\n",
        "    \n",
        "    Parameters\n",
        "    ----------\n",
        "    object : array_like\n",
        "        An array, any object exposing the array interface, an\n",
        "        object whose __array__ method returns an array, or any\n",
        "        (nested) sequence.\n",
        "    dtype : data-type, optional\n",
        "        The desired data-type for the array.  If not given, then\n",
        "        the type will be determined as the minimum type required\n",
        "        to hold the objects in the sequence.  This argument can only\n",
        "        be used to 'upcast' the array.  For downcasting, use the\n",
        "        .astype(t) method.\n",
        "    copy : bool, optional\n",
        "        If true (default), then the object is copied.  Otherwise, a copy\n",
        "        will only be made if __array__ returns a copy, if obj is a\n",
        "        nested sequence, or if a copy is needed to satisfy any of the other\n",
        "        requirements (`dtype`, `order`, etc.).\n",
        "    order : {'C', 'F', 'A'}, optional\n",
        "        Specify the order of the array.  If order is 'C' (default), then the\n",
        "        array will be in C-contiguous order (last-index varies the\n",
        "        fastest).  If order is 'F', then the returned array\n",
        "        will be in Fortran-contiguous order (first-index varies the\n",
        "        fastest).  If order is 'A', then the returned array may\n",
        "        be in any order (either C-, Fortran-contiguous, or even\n",
        "        discontiguous).\n",
        "    subok : bool, optional\n",
        "        If True, then sub-classes will be passed-through, otherwise\n",
        "        the returned array will be forced to be a base-class array (default).\n",
        "    ndmin : int, optional\n",
        "        Specifies the minimum number of dimensions that the resulting\n",
        "        array should have.  Ones will be pre-pended to the shape as\n",
        "        needed to meet this requirement.\n",
        "    \n",
        "    Returns\n",
        "    -------\n",
        "    out : ndarray\n",
        "        An array object satisfying the specified requirements.\n",
        "    \n",
        "    See Also\n",
        "    --------\n",
        "    empty, empty_like, zeros, zeros_like, ones, ones_like, fill\n",
        "    \n",
        "    Examples\n",
        "    --------\n",
        "    >>> np.array([1, 2, 3])\n",
        "    array([1, 2, 3])\n",
        "    \n",
        "    Upcasting:\n",
        "    \n",
        "    >>> np.array([1, 2, 3.0])\n",
        "    array([ 1.,  2.,  3.])\n",
        "    \n",
        "    More than one dimension:\n",
        "    \n",
        "    >>> np.array([[1, 2], [3, 4]])\n",
        "    array([[1, 2],\n",
        "           [3, 4]])\n",
        "    \n",
        "    Minimum dimensions 2:\n",
        "    \n",
        "    >>> np.array([1, 2, 3], ndmin=2)\n",
        "    array([[1, 2, 3]])\n",
        "    \n",
        "    Type provided:\n",
        "    \n",
        "    >>> np.array([1, 2, 3], dtype=complex)\n",
        "    array([ 1.+0.j,  2.+0.j,  3.+0.j])\n",
        "    \n",
        "    Data-type consisting of more than one element:\n",
        "    \n",
        "    >>> x = np.array([(1,2),(3,4)],dtype=[('a','<i4'),('b','<i4')])\n",
        "    >>> x['a']\n",
        "    array([1, 3])\n",
        "    \n",
        "    Creating an array from sub-classes:\n",
        "    \n",
        "    >>> np.array(np.mat('1 2; 3 4'))\n",
        "    array([[1, 2],\n",
        "           [3, 4]])\n",
        "    \n",
        "    >>> np.array(np.mat('1 2; 3 4'), subok=True)\n",
        "    matrix([[1, 2],\n",
        "            [3, 4]])\n",
        "\n"
       ]
      }
     ],
     "prompt_number": 55
    },
    {
     "cell_type": "code",
     "collapsed": false,
     "input": [
      "data = np.array([[1, 2, 3],[2, 4, 9]])\n",
      "data"
     ],
     "language": "python",
     "metadata": {},
     "outputs": [
      {
       "metadata": {},
       "output_type": "pyout",
       "prompt_number": 56,
       "text": [
        "array([[1, 2, 3],\n",
        "       [2, 4, 9]])"
       ]
      }
     ],
     "prompt_number": 56
    },
    {
     "cell_type": "code",
     "collapsed": false,
     "input": [
      "data[0]  # first row"
     ],
     "language": "python",
     "metadata": {},
     "outputs": [
      {
       "metadata": {},
       "output_type": "pyout",
       "prompt_number": 57,
       "text": [
        "array([1, 2, 3])"
       ]
      }
     ],
     "prompt_number": 57
    },
    {
     "cell_type": "code",
     "collapsed": false,
     "input": [
      "data[ : , 1]  # all rows, second column"
     ],
     "language": "python",
     "metadata": {},
     "outputs": [
      {
       "metadata": {},
       "output_type": "pyout",
       "prompt_number": 58,
       "text": [
        "array([2, 4])"
       ]
      }
     ],
     "prompt_number": 58
    },
    {
     "cell_type": "markdown",
     "metadata": {},
     "source": [
      "Because of the way numpy arrays are stored in memory, all elements have to be of the same type.  If there is just one float, all the values will be converted to a float."
     ]
    },
    {
     "cell_type": "code",
     "collapsed": false,
     "input": [
      "data = np.array([[1, 2, 3],[2, 4.5, 9]])\n",
      "data"
     ],
     "language": "python",
     "metadata": {},
     "outputs": [
      {
       "metadata": {},
       "output_type": "pyout",
       "prompt_number": 59,
       "text": [
        "array([[ 1. ,  2. ,  3. ],\n",
        "       [ 2. ,  4.5,  9. ]])"
       ]
      }
     ],
     "prompt_number": 59
    },
    {
     "cell_type": "markdown",
     "metadata": {},
     "source": [
      "Notice that the format of this data is different, something called a numpy `record array`.  \n",
      "\n",
      "ref: http://docs.scipy.org/doc/numpy/user/basics.rec.html#structured-arrays"
     ]
    },
    {
     "cell_type": "code",
     "collapsed": false,
     "input": [
      "# data[0]  # first row of data array"
     ],
     "language": "python",
     "metadata": {},
     "outputs": [],
     "prompt_number": 60
    },
    {
     "cell_type": "code",
     "collapsed": false,
     "input": [
      "# data[0][3]  # first row, fourth item in tuple"
     ],
     "language": "python",
     "metadata": {},
     "outputs": [],
     "prompt_number": 61
    },
    {
     "cell_type": "markdown",
     "metadata": {},
     "source": [
      "Things to look up:  \n",
      "    \n",
      "- list and array slicing\n",
      "- python list comprehensions\n",
      "- numpy array manipulation"
     ]
    },
    {
     "cell_type": "markdown",
     "metadata": {},
     "source": [
      "### Pandas (python package)"
     ]
    },
    {
     "cell_type": "markdown",
     "metadata": {},
     "source": [
      "Pandas is a Python package providing fast, flexible, and expressive data structures designed to make working with \u201crelational\u201d or \u201clabeled\u201d data both easy and intuitive.\n",
      "\n",
      "Pandas is great for tabular/indexed data"
     ]
    },
    {
     "cell_type": "code",
     "collapsed": false,
     "input": [
      "import pandas as pd"
     ],
     "language": "python",
     "metadata": {},
     "outputs": [],
     "prompt_number": 60
    },
    {
     "cell_type": "code",
     "collapsed": false,
     "input": [
      "data = pd.read_csv('housing-data.csv')"
     ],
     "language": "python",
     "metadata": {},
     "outputs": [],
     "prompt_number": 61
    },
    {
     "cell_type": "code",
     "collapsed": false,
     "input": [
      "data.head(10)"
     ],
     "language": "python",
     "metadata": {},
     "outputs": [
      {
       "html": [
        "<div style=\"max-height:1000px;max-width:1500px;overflow:auto;\">\n",
        "<table border=\"1\" class=\"dataframe\">\n",
        "  <thead>\n",
        "    <tr style=\"text-align: right;\">\n",
        "      <th></th>\n",
        "      <th>sqft</th>\n",
        "      <th> bdrms</th>\n",
        "      <th> age</th>\n",
        "      <th> price</th>\n",
        "    </tr>\n",
        "  </thead>\n",
        "  <tbody>\n",
        "    <tr>\n",
        "      <th>0</th>\n",
        "      <td> 2104</td>\n",
        "      <td> 3</td>\n",
        "      <td> 70</td>\n",
        "      <td> 399900</td>\n",
        "    </tr>\n",
        "    <tr>\n",
        "      <th>1</th>\n",
        "      <td> 1600</td>\n",
        "      <td> 3</td>\n",
        "      <td> 28</td>\n",
        "      <td> 329900</td>\n",
        "    </tr>\n",
        "    <tr>\n",
        "      <th>2</th>\n",
        "      <td> 2400</td>\n",
        "      <td> 3</td>\n",
        "      <td> 44</td>\n",
        "      <td> 369000</td>\n",
        "    </tr>\n",
        "    <tr>\n",
        "      <th>3</th>\n",
        "      <td> 1416</td>\n",
        "      <td> 2</td>\n",
        "      <td> 49</td>\n",
        "      <td> 232000</td>\n",
        "    </tr>\n",
        "    <tr>\n",
        "      <th>4</th>\n",
        "      <td> 3000</td>\n",
        "      <td> 4</td>\n",
        "      <td> 75</td>\n",
        "      <td> 539900</td>\n",
        "    </tr>\n",
        "    <tr>\n",
        "      <th>5</th>\n",
        "      <td> 1985</td>\n",
        "      <td> 4</td>\n",
        "      <td> 61</td>\n",
        "      <td> 299900</td>\n",
        "    </tr>\n",
        "    <tr>\n",
        "      <th>6</th>\n",
        "      <td> 1534</td>\n",
        "      <td> 3</td>\n",
        "      <td> 12</td>\n",
        "      <td> 314900</td>\n",
        "    </tr>\n",
        "    <tr>\n",
        "      <th>7</th>\n",
        "      <td> 1427</td>\n",
        "      <td> 3</td>\n",
        "      <td> 57</td>\n",
        "      <td> 198999</td>\n",
        "    </tr>\n",
        "    <tr>\n",
        "      <th>8</th>\n",
        "      <td> 1380</td>\n",
        "      <td> 3</td>\n",
        "      <td> 14</td>\n",
        "      <td> 212000</td>\n",
        "    </tr>\n",
        "    <tr>\n",
        "      <th>9</th>\n",
        "      <td> 1494</td>\n",
        "      <td> 3</td>\n",
        "      <td> 15</td>\n",
        "      <td> 242500</td>\n",
        "    </tr>\n",
        "  </tbody>\n",
        "</table>\n",
        "</div>"
       ],
       "metadata": {},
       "output_type": "pyout",
       "prompt_number": 63,
       "text": [
        "   sqft   bdrms   age   price\n",
        "0  2104       3    70  399900\n",
        "1  1600       3    28  329900\n",
        "2  2400       3    44  369000\n",
        "3  1416       2    49  232000\n",
        "4  3000       4    75  539900\n",
        "5  1985       4    61  299900\n",
        "6  1534       3    12  314900\n",
        "7  1427       3    57  198999\n",
        "8  1380       3    14  212000\n",
        "9  1494       3    15  242500"
       ]
      }
     ],
     "prompt_number": 63
    },
    {
     "cell_type": "code",
     "collapsed": false,
     "input": [
      "data.info()"
     ],
     "language": "python",
     "metadata": {},
     "outputs": [
      {
       "output_type": "stream",
       "stream": "stdout",
       "text": [
        "<class 'pandas.core.frame.DataFrame'>\n",
        "Int64Index: 47 entries, 0 to 46\n",
        "Data columns (total 4 columns):\n",
        "sqft      47 non-null int64\n",
        " bdrms    47 non-null int64\n",
        " age      47 non-null int64\n",
        " price    47 non-null int64\n",
        "dtypes: int64(4)"
       ]
      }
     ],
     "prompt_number": 64
    },
    {
     "cell_type": "code",
     "collapsed": false,
     "input": [
      "data.describe()"
     ],
     "language": "python",
     "metadata": {},
     "outputs": [
      {
       "html": [
        "<div style=\"max-height:1000px;max-width:1500px;overflow:auto;\">\n",
        "<table border=\"1\" class=\"dataframe\">\n",
        "  <thead>\n",
        "    <tr style=\"text-align: right;\">\n",
        "      <th></th>\n",
        "      <th>sqft</th>\n",
        "      <th> bdrms</th>\n",
        "      <th> age</th>\n",
        "      <th> price</th>\n",
        "    </tr>\n",
        "  </thead>\n",
        "  <tbody>\n",
        "    <tr>\n",
        "      <th>count</th>\n",
        "      <td>   47.000000</td>\n",
        "      <td> 47.000000</td>\n",
        "      <td> 47.000000</td>\n",
        "      <td>     47.000000</td>\n",
        "    </tr>\n",
        "    <tr>\n",
        "      <th>mean</th>\n",
        "      <td> 2000.680851</td>\n",
        "      <td>  3.170213</td>\n",
        "      <td> 42.744681</td>\n",
        "      <td> 340412.659574</td>\n",
        "    </tr>\n",
        "    <tr>\n",
        "      <th>std</th>\n",
        "      <td>  794.702354</td>\n",
        "      <td>  0.760982</td>\n",
        "      <td> 22.873440</td>\n",
        "      <td> 125039.899586</td>\n",
        "    </tr>\n",
        "    <tr>\n",
        "      <th>min</th>\n",
        "      <td>  852.000000</td>\n",
        "      <td>  1.000000</td>\n",
        "      <td>  5.000000</td>\n",
        "      <td> 169900.000000</td>\n",
        "    </tr>\n",
        "    <tr>\n",
        "      <th>25%</th>\n",
        "      <td> 1432.000000</td>\n",
        "      <td>  3.000000</td>\n",
        "      <td> 24.500000</td>\n",
        "      <td> 249900.000000</td>\n",
        "    </tr>\n",
        "    <tr>\n",
        "      <th>50%</th>\n",
        "      <td> 1888.000000</td>\n",
        "      <td>  3.000000</td>\n",
        "      <td> 44.000000</td>\n",
        "      <td> 299900.000000</td>\n",
        "    </tr>\n",
        "    <tr>\n",
        "      <th>75%</th>\n",
        "      <td> 2269.000000</td>\n",
        "      <td>  4.000000</td>\n",
        "      <td> 61.500000</td>\n",
        "      <td> 384450.000000</td>\n",
        "    </tr>\n",
        "    <tr>\n",
        "      <th>max</th>\n",
        "      <td> 4478.000000</td>\n",
        "      <td>  5.000000</td>\n",
        "      <td> 79.000000</td>\n",
        "      <td> 699900.000000</td>\n",
        "    </tr>\n",
        "  </tbody>\n",
        "</table>\n",
        "</div>"
       ],
       "metadata": {},
       "output_type": "pyout",
       "prompt_number": 65,
       "text": [
        "              sqft      bdrms        age          price\n",
        "count    47.000000  47.000000  47.000000      47.000000\n",
        "mean   2000.680851   3.170213  42.744681  340412.659574\n",
        "std     794.702354   0.760982  22.873440  125039.899586\n",
        "min     852.000000   1.000000   5.000000  169900.000000\n",
        "25%    1432.000000   3.000000  24.500000  249900.000000\n",
        "50%    1888.000000   3.000000  44.000000  299900.000000\n",
        "75%    2269.000000   4.000000  61.500000  384450.000000\n",
        "max    4478.000000   5.000000  79.000000  699900.000000"
       ]
      }
     ],
     "prompt_number": 65
    },
    {
     "cell_type": "code",
     "collapsed": false,
     "input": [
      "data[data.sqft>2000]"
     ],
     "language": "python",
     "metadata": {},
     "outputs": [
      {
       "html": [
        "<div style=\"max-height:1000px;max-width:1500px;overflow:auto;\">\n",
        "<table border=\"1\" class=\"dataframe\">\n",
        "  <thead>\n",
        "    <tr style=\"text-align: right;\">\n",
        "      <th></th>\n",
        "      <th>sqft</th>\n",
        "      <th> bdrms</th>\n",
        "      <th> age</th>\n",
        "      <th> price</th>\n",
        "    </tr>\n",
        "  </thead>\n",
        "  <tbody>\n",
        "    <tr>\n",
        "      <th>0 </th>\n",
        "      <td> 2104</td>\n",
        "      <td> 3</td>\n",
        "      <td> 70</td>\n",
        "      <td> 399900</td>\n",
        "    </tr>\n",
        "    <tr>\n",
        "      <th>2 </th>\n",
        "      <td> 2400</td>\n",
        "      <td> 3</td>\n",
        "      <td> 44</td>\n",
        "      <td> 369000</td>\n",
        "    </tr>\n",
        "    <tr>\n",
        "      <th>4 </th>\n",
        "      <td> 3000</td>\n",
        "      <td> 4</td>\n",
        "      <td> 75</td>\n",
        "      <td> 539900</td>\n",
        "    </tr>\n",
        "    <tr>\n",
        "      <th>13</th>\n",
        "      <td> 4478</td>\n",
        "      <td> 5</td>\n",
        "      <td> 49</td>\n",
        "      <td> 699900</td>\n",
        "    </tr>\n",
        "    <tr>\n",
        "      <th>15</th>\n",
        "      <td> 2300</td>\n",
        "      <td> 4</td>\n",
        "      <td> 77</td>\n",
        "      <td> 449900</td>\n",
        "    </tr>\n",
        "    <tr>\n",
        "      <th>18</th>\n",
        "      <td> 2609</td>\n",
        "      <td> 4</td>\n",
        "      <td>  5</td>\n",
        "      <td> 499998</td>\n",
        "    </tr>\n",
        "    <tr>\n",
        "      <th>19</th>\n",
        "      <td> 3031</td>\n",
        "      <td> 4</td>\n",
        "      <td> 21</td>\n",
        "      <td> 599000</td>\n",
        "    </tr>\n",
        "    <tr>\n",
        "      <th>24</th>\n",
        "      <td> 3890</td>\n",
        "      <td> 3</td>\n",
        "      <td> 36</td>\n",
        "      <td> 573900</td>\n",
        "    </tr>\n",
        "    <tr>\n",
        "      <th>27</th>\n",
        "      <td> 2526</td>\n",
        "      <td> 3</td>\n",
        "      <td> 13</td>\n",
        "      <td> 469000</td>\n",
        "    </tr>\n",
        "    <tr>\n",
        "      <th>28</th>\n",
        "      <td> 2200</td>\n",
        "      <td> 3</td>\n",
        "      <td> 28</td>\n",
        "      <td> 475000</td>\n",
        "    </tr>\n",
        "    <tr>\n",
        "      <th>29</th>\n",
        "      <td> 2637</td>\n",
        "      <td> 3</td>\n",
        "      <td> 25</td>\n",
        "      <td> 299900</td>\n",
        "    </tr>\n",
        "    <tr>\n",
        "      <th>32</th>\n",
        "      <td> 2040</td>\n",
        "      <td> 4</td>\n",
        "      <td> 75</td>\n",
        "      <td> 314900</td>\n",
        "    </tr>\n",
        "    <tr>\n",
        "      <th>33</th>\n",
        "      <td> 3137</td>\n",
        "      <td> 3</td>\n",
        "      <td> 67</td>\n",
        "      <td> 579900</td>\n",
        "    </tr>\n",
        "    <tr>\n",
        "      <th>37</th>\n",
        "      <td> 2132</td>\n",
        "      <td> 4</td>\n",
        "      <td> 28</td>\n",
        "      <td> 345000</td>\n",
        "    </tr>\n",
        "    <tr>\n",
        "      <th>38</th>\n",
        "      <td> 4215</td>\n",
        "      <td> 4</td>\n",
        "      <td> 66</td>\n",
        "      <td> 549000</td>\n",
        "    </tr>\n",
        "    <tr>\n",
        "      <th>39</th>\n",
        "      <td> 2162</td>\n",
        "      <td> 4</td>\n",
        "      <td> 43</td>\n",
        "      <td> 287000</td>\n",
        "    </tr>\n",
        "    <tr>\n",
        "      <th>41</th>\n",
        "      <td> 2238</td>\n",
        "      <td> 3</td>\n",
        "      <td> 37</td>\n",
        "      <td> 329900</td>\n",
        "    </tr>\n",
        "    <tr>\n",
        "      <th>42</th>\n",
        "      <td> 2567</td>\n",
        "      <td> 4</td>\n",
        "      <td> 57</td>\n",
        "      <td> 314000</td>\n",
        "    </tr>\n",
        "  </tbody>\n",
        "</table>\n",
        "</div>"
       ],
       "metadata": {},
       "output_type": "pyout",
       "prompt_number": 66,
       "text": [
        "    sqft   bdrms   age   price\n",
        "0   2104       3    70  399900\n",
        "2   2400       3    44  369000\n",
        "4   3000       4    75  539900\n",
        "13  4478       5    49  699900\n",
        "15  2300       4    77  449900\n",
        "18  2609       4     5  499998\n",
        "19  3031       4    21  599000\n",
        "24  3890       3    36  573900\n",
        "27  2526       3    13  469000\n",
        "28  2200       3    28  475000\n",
        "29  2637       3    25  299900\n",
        "32  2040       4    75  314900\n",
        "33  3137       3    67  579900\n",
        "37  2132       4    28  345000\n",
        "38  4215       4    66  549000\n",
        "39  2162       4    43  287000\n",
        "41  2238       3    37  329900\n",
        "42  2567       4    57  314000"
       ]
      }
     ],
     "prompt_number": 66
    },
    {
     "cell_type": "code",
     "collapsed": false,
     "input": [],
     "language": "python",
     "metadata": {},
     "outputs": []
    }
   ],
   "metadata": {}
  }
 ]
}